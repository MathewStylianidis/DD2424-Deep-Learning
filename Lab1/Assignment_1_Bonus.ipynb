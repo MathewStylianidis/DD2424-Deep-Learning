{
 "cells": [
  {
   "cell_type": "code",
   "execution_count": 1,
   "metadata": {},
   "outputs": [],
   "source": [
    "import matplotlib.pyplot as plt\n",
    "import numpy as np\n",
    "import pickle\n",
    "import warnings\n",
    "from scipy import misc\n",
    "from tqdm import tqdm"
   ]
  },
  {
   "cell_type": "code",
   "execution_count": 2,
   "metadata": {},
   "outputs": [],
   "source": [
    "# Display function for CIFAR-10\n",
    "def display(image):\n",
    "    plt.imshow(misc.toimage(image.reshape((3, 32, 32)).transpose(1,2,0)), interpolation = 'gaussian')\n",
    "    plt.show()"
   ]
  },
  {
   "cell_type": "code",
   "execution_count": 3,
   "metadata": {},
   "outputs": [],
   "source": [
    "data_directory_path = './Datasets/cifar-10-batches-py'"
   ]
  },
  {
   "cell_type": "code",
   "execution_count": 4,
   "metadata": {},
   "outputs": [],
   "source": [
    "def unpickle(file):\n",
    "    with open(file, 'rb') as fo:\n",
    "        dict = pickle.load(fo, encoding='bytes')\n",
    "    return dict"
   ]
  },
  {
   "cell_type": "code",
   "execution_count": 5,
   "metadata": {},
   "outputs": [],
   "source": [
    "def loadBatch(filepath):\n",
    "    \"\"\"\n",
    "    Loads the input data from the CIFAR-10 file given by filepath, encodes\n",
    "    the labels given by scalars into hot key encoding vectors and returns\n",
    "    the (X, Y, y) tuple where X is the inputs, Y the hotkey encodings and\n",
    "    y and scalar labels.\n",
    "    \"\"\"\n",
    "    dataset = unpickle(filepath)\n",
    "    dataSamples = dataset[b'data'] / 255\n",
    "    labels = dataset[b'labels']\n",
    "    label_count = np.max(labels)\n",
    "    hotKeyEncodings = np.array([[0 if labels[i] != j else 1 for j in range(label_count + 1)] for i in range(len(labels))])\n",
    "    return dataSamples, hotKeyEncodings, labels"
   ]
  },
  {
   "cell_type": "code",
   "execution_count": 77,
   "metadata": {},
   "outputs": [],
   "source": [
    "class Params:\n",
    "    \"\"\"\n",
    "    Class containing hyperparameters used for\n",
    "    gradient descent learning.\n",
    "    \n",
    "    Attributes:\n",
    "        n_batch: Number of samples in each mini-batch.\n",
    "        eta: Learning rate\n",
    "        n_epochs: Maximum number of learning epochs.\n",
    "        decay_rate: The percentage of the original value of the learning rate\n",
    "            which dictates the values of the learning rate once all epochs are\n",
    "            completed.\n",
    "        patience: Number of epochs the learning continues without increasing the \n",
    "            validation set accuracy before early stopping.\n",
    "        tol: Any percentage of increase in accuracy lower than that is deemed\n",
    "            insignificant.\n",
    "    \"\"\"\n",
    "    def __init__(self, n_batch, eta, n_epochs, decay_rate = 1.0, patience = 1e+10, tol = 1e-4):\n",
    "        \"\"\" Constructor \"\"\"\n",
    "        self.n_batch = n_batch\n",
    "        self.eta = eta\n",
    "        self.n_epochs = n_epochs\n",
    "        self.decay_rate = decay_rate\n",
    "        self.patience = patience\n",
    "        self.tol = tol"
   ]
  },
  {
   "cell_type": "code",
   "execution_count": 73,
   "metadata": {},
   "outputs": [],
   "source": [
    "class FeedforwardNet():\n",
    "    \"\"\"\n",
    "    A single layer feedforward neural net implemention with\n",
    "    a linear activation function, cross entropy loss and a \n",
    "    softmax output layer.\n",
    "    \n",
    "    Attributes:\n",
    "        K: dimensons of output\n",
    "        d: dimensions of input\n",
    "        W: A Kxd matrix with the weights of the neural network.\n",
    "        b: An 1xd vector with the bias values of each neuron.\n",
    "    \"\"\"\n",
    "    \n",
    "    \n",
    "    def __init__(self, d, K, mean, s):\n",
    "        \"\"\"\n",
    "        Initializes the Weight matrix and the bias vector\n",
    "        with a Gaussian distribution.\n",
    "\n",
    "        Args:\n",
    "            d: input dimensions\n",
    "            K: output dimensions\n",
    "            mean: mean of Gaussian\n",
    "            s: standard deviation of Gaussian\n",
    "\n",
    "        Returns:\n",
    "            A tuple with the weight matrix W and the bias vector b\n",
    "            in this order.\n",
    "        \"\"\"\n",
    "        self.K = K\n",
    "        self.d = d\n",
    "        self.W = np.random.normal(mean, s, (K, d)) # Weight matrix\n",
    "        self.b = np.random.normal(mean, s, (K, 1)) # Bias vector\n",
    "        \n",
    "    def evaluateClassifier(self, X):\n",
    "        \"\"\"\n",
    "        Evaluates the output of the classifier given the weights,\n",
    "        the bias and the inputs.\n",
    "\n",
    "        Args:\n",
    "            X: An Nxd matrix with the N d-dimensional input samples.\n",
    "\n",
    "        Returns:\n",
    "            The  Kx1 output vector of the neural network passed through\n",
    "            the softmax activation function.\n",
    "        \"\"\"\n",
    "        s = np.dot(self.W, X.T) + self.b\n",
    "        return self.softmax(s)\n",
    "\n",
    "    def softmax(self, s):\n",
    "        \"\"\"\n",
    "        Implementation of the softmax activation function\n",
    "\n",
    "        Args:\n",
    "            s: an 1xd vector of a classifier's outputs\n",
    "\n",
    "        Returns:\n",
    "            An 1xd vector with the results of softmax given the input\n",
    "            vector s.\n",
    "        \"\"\"\n",
    "        exponents = np.exp(s - np.max(s, axis = 0)) # Max subtraction for numerical stability\n",
    "        output_exp_sum = np.sum(exponents, axis = 0)\n",
    "        p = exponents / output_exp_sum\n",
    "        return p\n",
    "\n",
    "\n",
    "    def computeCost(self, X, Y, lamda, scale_const = 1e+6):\n",
    "        \"\"\"\n",
    "        Evaluates the loss function of the network.\n",
    "\n",
    "        Args:\n",
    "            X: Input matrix\n",
    "            Y: Output matrix\n",
    "            W: Weight matrix\n",
    "            b: bias vector\n",
    "            lambda: Constant that determines the amount\n",
    "                of loss induced by the regularization term.\n",
    "            scale_const: constant used to temporarily scale up possibly \n",
    "                small floating point numbers to avoid precision errors caused\n",
    "                by summing a lot of small numbers.\n",
    "        Returns:\n",
    "            A scalar corresponding to the loss.\n",
    "        \"\"\"\n",
    "        return np.mean(scale_const * self.cross_entropy_loss(X, Y)) / scale_const \\\n",
    "                + lamda * np.sum(scale_const * np.power(self.W, 2)) / scale_const\n",
    "\n",
    "    def cross_entropy_loss(self, X, Y):\n",
    "        \"\"\"\n",
    "        Calculates the cross entropy loss\n",
    "        \"\"\"\n",
    "        log_X = np.multiply(Y.T , self.evaluateClassifier(X)).sum(axis=0)\n",
    "        log_X[log_X == 0] = np.finfo(float).eps\n",
    "        return -np.log(log_X)\n",
    "        \n",
    "\n",
    "    def computeAccuracy(self, X, y):\n",
    "        \"\"\"\n",
    "        Computes the accuracy of the network.\n",
    "\n",
    "        Args:\n",
    "            X: Input matrix\n",
    "            y: Output labels\n",
    "            \n",
    "        Returns:\n",
    "            The accuracy of the network (i.e. the percentage of\n",
    "            correctly classified inputs in X).\n",
    "\n",
    "        \"\"\"\n",
    "        softmax_outputs = self.evaluateClassifier(X) # Get probability distribution of outputs\n",
    "        # Reduce to a vector of the labels with the highest probability\n",
    "        predictions = np.argmax(softmax_outputs, axis = 0)\n",
    "        accuracy = (predictions == y).mean()\n",
    "        return accuracy    \n",
    "\n",
    "    def computeGradients(self, X, Y, lamda, method = \"analytical\"):\n",
    "        \"\"\"\n",
    "        Computes the gradient of the error with the regularization\n",
    "        term with respect to the weights and the bias.\n",
    "\n",
    "         Args:\n",
    "            X: Input matrix\n",
    "            Y: Desired output matrix\n",
    "            lambda: Constant that determines the amount\n",
    "                of loss induced by the regularization term.\n",
    "            method: Type of method to be used to evaluate the gradients.\n",
    "\n",
    "        Returns:\n",
    "            A tuple with the gradient w.r.t the weights and the bias\n",
    "            (grad_W, grad_b).\n",
    "        \"\"\"\n",
    "        \n",
    "        P = self.evaluateClassifier(X)\n",
    "        \n",
    "        if method == \"analytical\":\n",
    "            # Analytical computation of the gradient\n",
    "            return self.computeAnalyticalGradients(X, Y, P, lamda)\n",
    "        elif method == \"fast_numerical\":\n",
    "            # Faster but less accurate calculation of the gradients\n",
    "            return self.computeGradsNum(X, Y, P, lamda)\n",
    "        elif method == \"accurate_numerical\":\n",
    "            # More exact calculation of the gradients but slower\n",
    "            return self.computeGradsNumSlow(X, Y, P, lamda)\n",
    "\n",
    "\n",
    "    def computeGradsNum(self, X, Y, P, lamda, h = 1e-8):\n",
    "        \"\"\"\n",
    "        Computes the gradient of the error function w.r.t the\n",
    "        weights based on the finite difference method.\n",
    "\n",
    "         Args:\n",
    "            X: Input matrix\n",
    "            Y: Desired output matrix\n",
    "            P: Output matrix\n",
    "            W: Weight matrix\n",
    "            b: bias vector\n",
    "            lambda: Constant that determines the amount\n",
    "                of loss induced by the regularization term.\n",
    "\n",
    "        Returns:\n",
    "            A tuple with the gradient w.r.t the weights and the bias\n",
    "            (grad_W, grad_b).\n",
    "        \"\"\" \n",
    "        N = X.shape[0]\n",
    "        grad_W = np.zeros(self.W.shape)\n",
    "        grad_b = np.zeros(self.b.shape)\n",
    "\n",
    "        c = self.computeCost(X, Y, lamda);\n",
    "\n",
    "        for i in range(self.b.shape[0]):\n",
    "            self.b[i] += h;\n",
    "            c2 = self.computeCost(X, Y, lamda);\n",
    "            self.b[i] -= h;\n",
    "            grad_b[i] = (c2-c) / h;\n",
    "\n",
    "        W_try = np.copy(self.W)\n",
    "        for i in range(self.W.shape[0]):\n",
    "            for j in range(self.W.shape[1]):\n",
    "                self.W[i, j] += h\n",
    "                c2 = self.computeCost(X, Y, lamda);\n",
    "                self.W[i, j] -= h\n",
    "                grad_W[i, j] = (c2-c) / h;\n",
    "\n",
    "        return (grad_W, grad_b)\n",
    "\n",
    "    def computeGradsNumSlow(self, X, Y, P, lamda, h = 1e-8):\n",
    "        \"\"\"\n",
    "        Computes the gradient of the error function w.r.t the\n",
    "        weights based on the centered difference formula.\n",
    "\n",
    "         Args:\n",
    "            X: Input matrix\n",
    "            Y: Desired output matrix\n",
    "            P: Output matrix\n",
    "            W: Weight matrix\n",
    "            b: bias vector\n",
    "            lambda: Constant that determines the amount\n",
    "                of loss induced by the regularization term.\n",
    "\n",
    "        Returns:\n",
    "            A tuple with the gradient w.r.t the weights and the bias\n",
    "            (grad_W, grad_b).\n",
    "        \"\"\" \n",
    "        N = X.shape[0]\n",
    "        grad_W = np.zeros(self.W.shape)\n",
    "        grad_b = np.zeros(self.b.shape)\n",
    "\n",
    "        for i in range(self.b.shape[0]):\n",
    "            self.b[i] -= h;\n",
    "            c1 = self.computeCost(X, Y, lamda);\n",
    "            self.b[i] += 2 * h\n",
    "            c2 = self.computeCost(X, Y, lamda);\n",
    "            self.b[i] -= h\n",
    "            grad_b[i] = (c2-c1) / (2 * h);\n",
    "\n",
    "        for i in range(self.W.shape[0]):\n",
    "            for j in range(self.W.shape[1]):\n",
    "                self.W[i,j] -= h\n",
    "                c1 = self.computeCost(X, Y, lamda);\n",
    "                self.W[i,j] += 2 * h\n",
    "                c2 = self.computeCost(X, Y, lamda);\n",
    "                self.W[i,j] -= h\n",
    "                grad_W[i,j] = (c2-c1) / (2 * h);\n",
    "\n",
    "        return (grad_W , grad_b)\n",
    "    \n",
    "    \n",
    "    def computeAnalyticalGradients(self, X, Y, P, lamda):\n",
    "        \"\"\"\n",
    "        Computes the gradient of the error function w.r.t the\n",
    "        weights analytically.\n",
    "\n",
    "        Args:\n",
    "            X: Input matrix\n",
    "            Y: Desired output matrix\n",
    "            P: Output matrix\n",
    "            W: Weight matrix\n",
    "            b: bias vector\n",
    "            lambda: Constant that determines the amount\n",
    "                of loss induced by the regularization term.\n",
    "\n",
    "        Returns:\n",
    "            A tuple with the gradient w.r.t the weights and the bias\n",
    "            (grad_W, grad_b).\n",
    "        \"\"\" \n",
    "        grad_W = np.zeros(self.W.shape)\n",
    "        grad_b = np.zeros(self.b.shape)\n",
    "        N = X.shape[0]\n",
    "\n",
    "        for i in range(N):\n",
    "            x = X[i].reshape(1,-1)\n",
    "            y = Y[i].reshape(-1,1)\n",
    "            p = self.evaluateClassifier(x)\n",
    "            g = -(y - p)\n",
    "            grad_b += g\n",
    "            grad_W += g.dot(x)\n",
    "        grad_W /= N\n",
    "        grad_b /= N\n",
    "        grad_W += 2 * lamda * self.W\n",
    "        return (grad_W, grad_b)\n",
    "    \n",
    "    def miniBatchGD(self, X, Y, GDparams, lamda, GDmethod = \"analytical\", verbose = False, X_val = None, Y_val = None):\n",
    "        \"\"\"\n",
    "        Implementation of mini-batch gradient descent.\n",
    "\n",
    "         Args:\n",
    "            X: Training input matrix\n",
    "            Y: Training set desired output matrix\n",
    "            GDparams: Object of the class Params with the hyperparameters\n",
    "                used for learning.\n",
    "            W: Initial weight matrix\n",
    "            b: Initial bias vector\n",
    "            lamda: Constant that determines the amount\n",
    "                of loss induced by the regularization term.\n",
    "            GDmethod: Method used to approximate gradient descent.\n",
    "            verbose: Prints info in each iteration about the progress of\n",
    "                training when equal to True.\n",
    "            X_val: Validation set input matrix\n",
    "            Y_val: Validation set desired output matrix\n",
    "\n",
    "\n",
    "        Returns:\n",
    "            The following tuple is returned where the validation lists\n",
    "            are empty if no validation set is given: (training_loss_list,\n",
    "            validation_loss_list, training_acc_list, validation_acc_list).\n",
    "        \"\"\"\n",
    "        results = [[],[],[],[]]\n",
    "        mini_batch_count = X.shape[0] // GDparams.n_batch\n",
    "        y = np.argmax(Y.T, axis = 0)\n",
    "        if(X_val is not None and Y_val is not None):\n",
    "            y_val = np.argmax(Y_val.T, axis = 0)\n",
    "        \n",
    "        results[0].append(self.computeCost(X, Y, lamda))\n",
    "        results[2].append(network_model.computeAccuracy(X, y))\n",
    "        if(X_val is not None and Y_val is not None):\n",
    "            results[1].append(self.computeCost(X_val, Y_val, lamda))\n",
    "            results[3].append(network_model.computeAccuracy(X_val, y_val))\n",
    "        if(verbose):\n",
    "                print(\"Starting state \")\n",
    "                print(\"    Training cost: \" + str(results[0][-1]))\n",
    "                print(\"    Training accuracy: \" + str(results[2][-1]))\n",
    "                if(X_val is not None and Y_val is not None):\n",
    "                    print(\"    Validation cost: \" + str(results[1][-1]))\n",
    "                    print(\"    Validation accuracy: \" + str(results[3][-1]))\n",
    "                \n",
    "        init_eta = GDparams.eta\n",
    "        max_accuracy = -1\n",
    "        patience_count = 0\n",
    "        maxWeights = None\n",
    "        maxb = None\n",
    "        maxEpoch = -1\n",
    "        for i in tqdm(range(GDparams.n_epochs)):\n",
    "            for j in range(mini_batch_count):\n",
    "                if(j < mini_batch_count - 1):\n",
    "                    start = j * GDparams.n_batch\n",
    "                    end = start + GDparams.n_batch\n",
    "                    mini_batch_input = X[start:end]\n",
    "                    mini_batch_output = Y[start:end]\n",
    "                else:\n",
    "                    # Take the remaining samples in the last mini batch\n",
    "                    mini_batch_input = X[j * GDparams.n_batch:]\n",
    "                    mini_batch_output = Y[j * GDparams.n_batch:]\n",
    "                grad_W, grad_b = self.computeGradients(mini_batch_input, mini_batch_output,\n",
    "                                                    lamda, method = GDmethod)\n",
    "                self.W -= GDparams.eta * grad_W\n",
    "                self.b -= GDparams.eta * grad_b\n",
    "                \n",
    "            results[0].append(self.computeCost(X, Y, lamda))\n",
    "            results[2].append(network_model.computeAccuracy(X, y))\n",
    "            \n",
    "            # Decay the learning rate\n",
    "            GDparams.eta = init_eta * GDparams.decay_rate ** (float(i + 1) / GDparams.n_epochs)\n",
    "            \n",
    "            if(X_val is not None and Y_val is not None):\n",
    "                results[1].append(self.computeCost(X_val, Y_val, lamda))\n",
    "                results[3].append(network_model.computeAccuracy(X_val, y_val))\n",
    "                if(results[3][-1] > max_accuracy + GDparams.tol):\n",
    "                        patience_count = 0 # Reset patience counter\n",
    "                        max_accuracy = results[3][-1]\n",
    "                        maxWeights = np.copy(self.W)\n",
    "                        maxb = np.copy(self.b)\n",
    "                        maxEpoch = i\n",
    "                else:\n",
    "                    patience_count += 1 # Increase counter by one\n",
    "                    if(patience_count > GDparams.patience):\n",
    "                        print(\"FINISHED i: \" + str(i))\n",
    "                        break\n",
    "            if(verbose):\n",
    "                print(\"Iteration \" + str(i))\n",
    "                print(\"    Training cost: \" + str(results[0][-1]))\n",
    "                print(\"    Training accuracy: \" + str(results[2][-1]))\n",
    "                if(X_val is not None and Y_val is not None):\n",
    "                    print(\"    Validation cost: \" + str(results[1][-1]))\n",
    "                    print(\"    Validation accuracy: \" + str(results[3][-1]))\n",
    "        self.W = maxWeights\n",
    "        self.b = maxb\n",
    "        results[0] = results[0][:maxEpoch + 1]\n",
    "        results[1] = results[1][:maxEpoch + 1]\n",
    "        results[2] = results[2][:maxEpoch + 1]\n",
    "        results[3] = results[3][:maxEpoch + 1]\n",
    "        return tuple(results)\n",
    "        "
   ]
  },
  {
   "cell_type": "code",
   "execution_count": 8,
   "metadata": {},
   "outputs": [],
   "source": [
    "def makePlots(tr_losses, val_losses, tr_accuracies, val_accuracies):\n",
    "    plt.subplot(1,2,1)\n",
    "    plt.plot(tr_losses, 'r-', label='Train')\n",
    "    plt.plot(val_losses, 'b-', label='Validation')\n",
    "    plt.title('Cost function')\n",
    "    plt.xlabel('Epoch')\n",
    "    plt.ylabel('Cost value')\n",
    "    plt.legend()\n",
    "    plt.subplot(1,2,2)\n",
    "    plt.plot(tr_accuracies, 'r-', label='Training data')\n",
    "    plt.plot(val_accuracies, 'b-', label='Validation data')\n",
    "    plt.title('Accuracy')\n",
    "    plt.xlabel('Epoch')\n",
    "    plt.ylabel('Accuracy')\n",
    "    plt.legend()\n",
    "    plt.show()"
   ]
  },
  {
   "cell_type": "code",
   "execution_count": 9,
   "metadata": {},
   "outputs": [],
   "source": [
    "def visualizeWeights(network):\n",
    "    # Visualize learned weights as pictures\n",
    "    fig, ax = plt.subplots(figsize=(10, 5))\n",
    "    for i in range(len(network_model.W)):\n",
    "        plt.subplot(2, 5, i+1)\n",
    "        plt.axis(\"off\")\n",
    "        plt.imshow(misc.toimage(network.W[i].reshape((3, 32, 32)).transpose(1,2,0)), interpolation = 'gaussian')\n",
    "    plt.show()"
   ]
  },
  {
   "cell_type": "code",
   "execution_count": 10,
   "metadata": {},
   "outputs": [],
   "source": [
    "# Load training data (X is the input data, Y the hotkey encodings and y the label code numbers)\n",
    "X, Y, y = loadBatch(data_directory_path + '/data_batch_' + str(1))\n",
    "for i in range(1,6):\n",
    "    Xnew, Ynew, ynew = loadBatch(data_directory_path + '/data_batch_' + str(i))\n",
    "    X = np.vstack((X, Xnew))\n",
    "    Y = np.vstack((Y, Ynew))\n",
    "    y = np.hstack((y, ynew))"
   ]
  },
  {
   "cell_type": "code",
   "execution_count": 11,
   "metadata": {},
   "outputs": [
    {
     "name": "stderr",
     "output_type": "stream",
     "text": [
      "  2%|▏         | 1092/59998 [00:02<02:38, 371.37it/s]\n"
     ]
    }
   ],
   "source": [
    "# Extract a balanced subset as a validation set\n",
    "val_set_size = 1000\n",
    "classes = 10\n",
    "val_samples = [val_set_size / classes for i in range(classes)]\n",
    "X_tr, Y_tr, y_tr = X[0].reshape(1, -1), Y[0].reshape(1, -1), np.array([y[0]])\n",
    "X_val, Y_val, y_val = X[1].reshape(1, -1), Y[1].reshape(1, -1), np.array([y[1]])\n",
    "val_samples[y_val[0]] -= 1\n",
    "stop_index = -1\n",
    "for i in tqdm(range(2, len(X))):\n",
    "    class_idx = y[i]\n",
    "    if(val_samples[class_idx] > 0):\n",
    "        # Append to validation set\n",
    "        val_samples[class_idx] -= 1\n",
    "        X_val = np.vstack((X_val, X[i]))\n",
    "        Y_val = np.vstack((Y_val, Y[i]))\n",
    "        y_val = np.hstack((y_val, y[i]))\n",
    "    else:\n",
    "        # Append to training set\n",
    "        X_tr = np.vstack((X_tr, X[i]))\n",
    "        Y_tr = np.vstack((Y_tr, Y[i]))\n",
    "        y_tr = np.hstack((y_tr, y[i]))\n",
    "    if(np.sum(val_samples) == 0):\n",
    "        stop_index = i\n",
    "        break\n",
    "# Concatenate remaining samples to the training set when validation set has been extracted\n",
    "X_tr = np.vstack((X_tr, X[stop_index+1:]))\n",
    "Y_tr = np.vstack((Y_tr, Y[stop_index+1:]))\n",
    "y_tr = np.hstack((y_tr, y[stop_index+1:]))"
   ]
  },
  {
   "cell_type": "code",
   "execution_count": 12,
   "metadata": {},
   "outputs": [
    {
     "name": "stdout",
     "output_type": "stream",
     "text": [
      "(59000, 3072)\n",
      "(59000, 10)\n",
      "(59000,)\n",
      "(1000, 3072)\n",
      "(1000, 10)\n",
      "(1000,)\n",
      "[100 100 100 100 100 100 100 100 100 100]\n"
     ]
    }
   ],
   "source": [
    "# Verify that the hold out of the validation set was done correctly\n",
    "print(X_tr.shape)\n",
    "print(Y_tr.shape)\n",
    "print(y_tr.shape)\n",
    "print(X_val.shape)\n",
    "print(Y_val.shape)\n",
    "print(y_val.shape)\n",
    "# Print sample count for each class to verify that validation set is balanced\n",
    "print(np.sum(Y_val, axis = 0))"
   ]
  },
  {
   "cell_type": "code",
   "execution_count": 13,
   "metadata": {},
   "outputs": [],
   "source": [
    "# Load test data\n",
    "X_tst, Y_tst, y_tst = loadBatch(data_directory_path + '/test_batch')"
   ]
  },
  {
   "cell_type": "markdown",
   "metadata": {},
   "source": [
    "### Running the network's functions without training"
   ]
  },
  {
   "cell_type": "markdown",
   "metadata": {},
   "source": [
    "### Task 7. Perform mini-batch gradient descent"
   ]
  },
  {
   "cell_type": "markdown",
   "metadata": {},
   "source": [
    "#### Improvements Implemented\n",
    "##### 1. More samples (DONE)\n",
    "##### 2. Decaying learning rate (DONE)\n",
    "##### 3. Grid search  (DONE)\n",
    "##### 4. Early stoppng (DONE)"
   ]
  },
  {
   "cell_type": "code",
   "execution_count": 81,
   "metadata": {
    "scrolled": false
   },
   "outputs": [
    {
     "name": "stderr",
     "output_type": "stream",
     "text": [
      "\n",
      "  0%|          | 0/150 [00:00<?, ?it/s]\u001b[A\n",
      " 53%|█████▎    | 79/150 [12:33<11:16,  9.53s/it]"
     ]
    },
    {
     "name": "stdout",
     "output_type": "stream",
     "text": [
      "FINISHED i: 79\n",
      "BATCH: 100 ETA: 0.01 Lambda: 0.0 ACCURACY 0.437\n",
      "FINAL EPOCH: 64\n"
     ]
    },
    {
     "name": "stderr",
     "output_type": "stream",
     "text": [
      "\n",
      "  0%|          | 0/150 [00:00<?, ?it/s]\u001b[A\n",
      "  1%|          | 1/150 [00:08<20:13,  8.14s/it]\u001b[A\n",
      " 20%|██        | 30/150 [04:33<18:15,  9.13s/it]"
     ]
    },
    {
     "name": "stdout",
     "output_type": "stream",
     "text": [
      "FINISHED i: 30\n",
      "BATCH: 100 ETA: 0.01 Lambda: 0.1 ACCURACY 0.331\n",
      "FINAL EPOCH: 15\n"
     ]
    },
    {
     "name": "stderr",
     "output_type": "stream",
     "text": [
      "\n",
      "  0%|          | 0/150 [00:00<?, ?it/s]\u001b[A\n",
      " 26%|██▌       | 39/150 [06:12<17:39,  9.54s/it]"
     ]
    },
    {
     "name": "stdout",
     "output_type": "stream",
     "text": [
      "FINISHED i: 39\n",
      "BATCH: 100 ETA: 0.05 Lambda: 0.0 ACCURACY 0.351\n",
      "FINAL EPOCH: 24\n"
     ]
    },
    {
     "name": "stderr",
     "output_type": "stream",
     "text": [
      "\n",
      "  0%|          | 0/150 [00:00<?, ?it/s]\u001b[A\n",
      " 41%|████      | 61/150 [09:21<13:38,  9.20s/it]"
     ]
    },
    {
     "name": "stdout",
     "output_type": "stream",
     "text": [
      "FINISHED i: 61\n",
      "BATCH: 100 ETA: 0.05 Lambda: 0.1 ACCURACY 0.271\n",
      "FINAL EPOCH: 46\n"
     ]
    },
    {
     "name": "stderr",
     "output_type": "stream",
     "text": [
      "\n",
      "  0%|          | 0/150 [00:00<?, ?it/s]\u001b[A\n",
      " 39%|███▊      | 58/150 [09:09<14:31,  9.47s/it]"
     ]
    },
    {
     "name": "stdout",
     "output_type": "stream",
     "text": [
      "FINISHED i: 58\n",
      "BATCH: 100 ETA: 0.1 Lambda: 0.0 ACCURACY 0.337\n",
      "FINAL EPOCH: 43\n"
     ]
    },
    {
     "name": "stderr",
     "output_type": "stream",
     "text": [
      "\n",
      "  0%|          | 0/150 [00:00<?, ?it/s]\u001b[A\n",
      " 23%|██▎       | 35/150 [05:28<17:58,  9.38s/it]"
     ]
    },
    {
     "name": "stdout",
     "output_type": "stream",
     "text": [
      "FINISHED i: 35\n",
      "BATCH: 100 ETA: 0.1 Lambda: 0.1 ACCURACY 0.173\n",
      "FINAL EPOCH: 20\n"
     ]
    },
    {
     "name": "stderr",
     "output_type": "stream",
     "text": [
      "\n",
      "  0%|          | 0/150 [00:00<?, ?it/s]\u001b[A\n",
      " 27%|██▋       | 41/150 [06:26<17:07,  9.43s/it]"
     ]
    },
    {
     "name": "stdout",
     "output_type": "stream",
     "text": [
      "FINISHED i: 41\n",
      "BATCH: 100 ETA: 0.25 Lambda: 0.0 ACCURACY 0.269\n",
      "FINAL EPOCH: 26\n"
     ]
    },
    {
     "name": "stderr",
     "output_type": "stream",
     "text": [
      "\n",
      "  0%|          | 0/150 [00:00<?, ?it/s]\u001b[A\n",
      "  1%|          | 1/150 [00:08<19:58,  8.04s/it]\u001b[A\n",
      " 17%|█▋        | 25/150 [03:43<18:38,  8.95s/it]"
     ]
    },
    {
     "name": "stdout",
     "output_type": "stream",
     "text": [
      "FINISHED i: 25\n",
      "BATCH: 100 ETA: 0.25 Lambda: 0.1 ACCURACY 0.131\n",
      "FINAL EPOCH: 10\n"
     ]
    },
    {
     "name": "stderr",
     "output_type": "stream",
     "text": [
      "\n",
      "  0%|          | 0/150 [00:00<?, ?it/s]\u001b[A\n",
      " 18%|█▊        | 27/150 [04:07<18:46,  9.16s/it]"
     ]
    },
    {
     "name": "stdout",
     "output_type": "stream",
     "text": [
      "FINISHED i: 27\n",
      "BATCH: 100 ETA: 0.5 Lambda: 0.0 ACCURACY 0.244\n",
      "FINAL EPOCH: 12\n"
     ]
    },
    {
     "name": "stderr",
     "output_type": "stream",
     "text": [
      "\n",
      "  0%|          | 0/150 [00:00<?, ?it/s]\u001b[A\n",
      " 30%|███       | 45/150 [07:06<16:35,  9.48s/it]"
     ]
    },
    {
     "name": "stdout",
     "output_type": "stream",
     "text": [
      "FINISHED i: 45\n",
      "BATCH: 100 ETA: 0.5 Lambda: 0.1 ACCURACY 0.103\n",
      "FINAL EPOCH: 30\n"
     ]
    },
    {
     "name": "stderr",
     "output_type": "stream",
     "text": [
      "\n",
      "  0%|          | 0/150 [00:00<?, ?it/s]\u001b[A\n",
      " 73%|███████▎  | 109/150 [16:39<06:15,  9.17s/it]"
     ]
    },
    {
     "name": "stdout",
     "output_type": "stream",
     "text": [
      "FINISHED i: 109\n",
      "BATCH: 250 ETA: 0.01 Lambda: 0.0 ACCURACY 0.429\n",
      "FINAL EPOCH: 94\n"
     ]
    },
    {
     "name": "stderr",
     "output_type": "stream",
     "text": [
      "\n",
      "  0%|          | 0/150 [00:00<?, ?it/s]\u001b[A\n",
      " 23%|██▎       | 34/150 [04:56<16:52,  8.73s/it]"
     ]
    },
    {
     "name": "stdout",
     "output_type": "stream",
     "text": [
      "FINISHED i: 34\n",
      "BATCH: 250 ETA: 0.01 Lambda: 0.1 ACCURACY 0.324\n",
      "FINAL EPOCH: 19\n"
     ]
    },
    {
     "name": "stderr",
     "output_type": "stream",
     "text": [
      "\n",
      "  0%|          | 0/150 [00:00<?, ?it/s]\u001b[A\n",
      " 42%|████▏     | 63/150 [09:16<12:48,  8.83s/it]"
     ]
    },
    {
     "name": "stdout",
     "output_type": "stream",
     "text": [
      "FINISHED i: 63\n",
      "BATCH: 250 ETA: 0.05 Lambda: 0.0 ACCURACY 0.416\n",
      "FINAL EPOCH: 48\n"
     ]
    },
    {
     "name": "stderr",
     "output_type": "stream",
     "text": [
      "\n",
      "  0%|          | 0/150 [00:00<?, ?it/s]\u001b[A\n",
      " 32%|███▏      | 48/150 [07:15<15:24,  9.06s/it]"
     ]
    },
    {
     "name": "stdout",
     "output_type": "stream",
     "text": [
      "FINISHED i: 48\n",
      "BATCH: 250 ETA: 0.05 Lambda: 0.1 ACCURACY 0.207\n",
      "FINAL EPOCH: 33\n"
     ]
    },
    {
     "name": "stderr",
     "output_type": "stream",
     "text": [
      "\n",
      "  0%|          | 0/150 [00:00<?, ?it/s]\u001b[A\n",
      " 49%|████▉     | 74/150 [11:41<12:00,  9.48s/it]"
     ]
    },
    {
     "name": "stdout",
     "output_type": "stream",
     "text": [
      "FINISHED i: 74\n",
      "BATCH: 250 ETA: 0.1 Lambda: 0.0 ACCURACY 0.355\n",
      "FINAL EPOCH: 59\n"
     ]
    },
    {
     "name": "stderr",
     "output_type": "stream",
     "text": [
      "\n",
      "  0%|          | 0/150 [00:00<?, ?it/s]\u001b[A\n",
      " 58%|█████▊    | 87/150 [13:15<09:36,  9.15s/it]"
     ]
    },
    {
     "name": "stdout",
     "output_type": "stream",
     "text": [
      "FINISHED i: 87\n",
      "BATCH: 250 ETA: 0.1 Lambda: 0.1 ACCURACY 0.264\n",
      "FINAL EPOCH: 72\n"
     ]
    },
    {
     "name": "stderr",
     "output_type": "stream",
     "text": [
      "\n",
      "  0%|          | 0/150 [00:00<?, ?it/s]\u001b[A\n",
      " 24%|██▍       | 36/150 [05:38<17:52,  9.41s/it]"
     ]
    },
    {
     "name": "stdout",
     "output_type": "stream",
     "text": [
      "FINISHED i: 36\n",
      "BATCH: 250 ETA: 0.25 Lambda: 0.0 ACCURACY 0.286\n",
      "FINAL EPOCH: 21\n"
     ]
    },
    {
     "name": "stderr",
     "output_type": "stream",
     "text": [
      "\n",
      "  0%|          | 0/150 [00:00<?, ?it/s]\u001b[A\n",
      " 12%|█▏        | 18/150 [02:46<20:24,  9.28s/it]"
     ]
    },
    {
     "name": "stdout",
     "output_type": "stream",
     "text": [
      "FINISHED i: 18\n",
      "BATCH: 250 ETA: 0.25 Lambda: 0.1 ACCURACY 0.1\n",
      "FINAL EPOCH: 3\n"
     ]
    },
    {
     "name": "stderr",
     "output_type": "stream",
     "text": [
      "\n",
      "  0%|          | 0/150 [00:00<?, ?it/s]\u001b[A\n",
      " 16%|█▌        | 24/150 [03:36<18:56,  9.02s/it]"
     ]
    },
    {
     "name": "stdout",
     "output_type": "stream",
     "text": [
      "FINISHED i: 24\n",
      "BATCH: 250 ETA: 0.5 Lambda: 0.0 ACCURACY 0.267\n",
      "FINAL EPOCH: 9\n"
     ]
    },
    {
     "name": "stderr",
     "output_type": "stream",
     "text": [
      "\n",
      "  0%|          | 0/150 [00:00<?, ?it/s]\u001b[A\n",
      " 21%|██        | 31/150 [04:20<16:38,  8.39s/it]"
     ]
    },
    {
     "name": "stdout",
     "output_type": "stream",
     "text": [
      "FINISHED i: 31\n",
      "BATCH: 250 ETA: 0.5 Lambda: 0.1 ACCURACY 0.1\n",
      "FINAL EPOCH: 16\n"
     ]
    },
    {
     "name": "stderr",
     "output_type": "stream",
     "text": [
      "\n",
      "  0%|          | 0/150 [00:00<?, ?it/s]\u001b[A\n",
      "100%|██████████| 150/150 [22:47<00:00,  9.12s/it]\n"
     ]
    },
    {
     "name": "stdout",
     "output_type": "stream",
     "text": [
      "BATCH: 500 ETA: 0.01 Lambda: 0.0 ACCURACY 0.429\n",
      "FINAL EPOCH: 145\n"
     ]
    },
    {
     "name": "stderr",
     "output_type": "stream",
     "text": [
      " 26%|██▌       | 39/150 [05:59<17:03,  9.22s/it]"
     ]
    },
    {
     "name": "stdout",
     "output_type": "stream",
     "text": [
      "FINISHED i: 39\n",
      "BATCH: 500 ETA: 0.01 Lambda: 0.1 ACCURACY 0.347\n",
      "FINAL EPOCH: 24\n"
     ]
    },
    {
     "name": "stderr",
     "output_type": "stream",
     "text": [
      "\n",
      "  0%|          | 0/150 [00:00<?, ?it/s]\u001b[A\n",
      "  1%|          | 1/150 [00:07<19:29,  7.85s/it]\u001b[A\n",
      " 15%|█▌        | 23/150 [03:37<20:02,  9.47s/it]"
     ]
    },
    {
     "name": "stdout",
     "output_type": "stream",
     "text": [
      "FINISHED i: 23\n",
      "BATCH: 500 ETA: 0.05 Lambda: 0.0 ACCURACY 0.305\n",
      "FINAL EPOCH: 8\n"
     ]
    },
    {
     "name": "stderr",
     "output_type": "stream",
     "text": [
      "\n",
      "  0%|          | 0/150 [00:00<?, ?it/s]\u001b[A\n",
      " 22%|██▏       | 33/150 [05:07<18:09,  9.31s/it]"
     ]
    },
    {
     "name": "stdout",
     "output_type": "stream",
     "text": [
      "FINISHED i: 33\n",
      "BATCH: 500 ETA: 0.05 Lambda: 0.1 ACCURACY 0.23\n",
      "FINAL EPOCH: 18\n"
     ]
    },
    {
     "name": "stderr",
     "output_type": "stream",
     "text": [
      "\n",
      "  0%|          | 0/150 [00:00<?, ?it/s]\u001b[A\n",
      " 51%|█████     | 76/150 [11:29<11:11,  9.07s/it]"
     ]
    },
    {
     "name": "stdout",
     "output_type": "stream",
     "text": [
      "FINISHED i: 76\n",
      "BATCH: 500 ETA: 0.1 Lambda: 0.0 ACCURACY 0.379\n",
      "FINAL EPOCH: 61\n"
     ]
    },
    {
     "name": "stderr",
     "output_type": "stream",
     "text": [
      "\n",
      "  0%|          | 0/150 [00:00<?, ?it/s]\u001b[A\n",
      " 11%|█         | 16/150 [02:34<21:30,  9.63s/it]"
     ]
    },
    {
     "name": "stdout",
     "output_type": "stream",
     "text": [
      "FINISHED i: 16\n",
      "BATCH: 500 ETA: 0.1 Lambda: 0.1 ACCURACY 0.129\n",
      "FINAL EPOCH: 1\n"
     ]
    },
    {
     "name": "stderr",
     "output_type": "stream",
     "text": [
      "\n",
      "  0%|          | 0/150 [00:00<?, ?it/s]\u001b[A\n",
      " 25%|██▍       | 37/150 [05:19<16:14,  8.62s/it]"
     ]
    },
    {
     "name": "stdout",
     "output_type": "stream",
     "text": [
      "FINISHED i: 37\n",
      "BATCH: 500 ETA: 0.25 Lambda: 0.0 ACCURACY 0.281\n",
      "FINAL EPOCH: 22\n"
     ]
    },
    {
     "name": "stderr",
     "output_type": "stream",
     "text": [
      "\n",
      "  0%|          | 0/150 [00:00<?, ?it/s]\u001b[A\n",
      " 19%|█▉        | 29/150 [04:34<19:06,  9.47s/it]"
     ]
    },
    {
     "name": "stdout",
     "output_type": "stream",
     "text": [
      "FINISHED i: 29\n",
      "BATCH: 500 ETA: 0.25 Lambda: 0.1 ACCURACY 0.1\n",
      "FINAL EPOCH: 14\n"
     ]
    },
    {
     "name": "stderr",
     "output_type": "stream",
     "text": [
      "\n",
      "  0%|          | 0/150 [00:00<?, ?it/s]\u001b[A\n",
      "  1%|          | 1/150 [00:07<19:51,  7.99s/it]\u001b[A\n",
      "100%|██████████| 150/150 [23:06<00:00,  9.25s/it]\n"
     ]
    },
    {
     "name": "stdout",
     "output_type": "stream",
     "text": [
      "BATCH: 500 ETA: 0.5 Lambda: 0.0 ACCURACY 0.438\n",
      "FINAL EPOCH: 137\n"
     ]
    },
    {
     "name": "stderr",
     "output_type": "stream",
     "text": [
      " 15%|█▍        | 22/150 [03:29<20:18,  9.52s/it]"
     ]
    },
    {
     "name": "stdout",
     "output_type": "stream",
     "text": [
      "FINISHED i: 22\n",
      "BATCH: 500 ETA: 0.5 Lambda: 0.1 ACCURACY 0.1\n",
      "FINAL EPOCH: 7\n"
     ]
    },
    {
     "name": "stderr",
     "output_type": "stream",
     "text": [
      "\n",
      "  0%|          | 0/150 [00:00<?, ?it/s]\u001b[A\n",
      "  1%|          | 1/150 [00:08<20:06,  8.10s/it]\u001b[A\n",
      " 74%|███████▍  | 111/150 [16:56<05:57,  9.16s/it]"
     ]
    },
    {
     "name": "stdout",
     "output_type": "stream",
     "text": [
      "FINISHED i: 111\n",
      "BATCH: 750 ETA: 0.01 Lambda: 0.0 ACCURACY 0.423\n",
      "FINAL EPOCH: 96\n"
     ]
    },
    {
     "name": "stderr",
     "output_type": "stream",
     "text": [
      "\n",
      "  0%|          | 0/150 [00:00<?, ?it/s]\u001b[A\n",
      " 20%|██        | 30/150 [04:42<18:50,  9.42s/it]"
     ]
    },
    {
     "name": "stdout",
     "output_type": "stream",
     "text": [
      "FINISHED i: 30\n",
      "BATCH: 750 ETA: 0.01 Lambda: 0.1 ACCURACY 0.361\n",
      "FINAL EPOCH: 15\n"
     ]
    },
    {
     "name": "stderr",
     "output_type": "stream",
     "text": [
      "\n",
      "  0%|          | 0/150 [00:00<?, ?it/s]\u001b[A\n",
      " 31%|███       | 46/150 [06:55<15:38,  9.02s/it]"
     ]
    },
    {
     "name": "stdout",
     "output_type": "stream",
     "text": [
      "FINISHED i: 46\n",
      "BATCH: 750 ETA: 0.05 Lambda: 0.0 ACCURACY 0.343\n",
      "FINAL EPOCH: 31\n"
     ]
    },
    {
     "name": "stderr",
     "output_type": "stream",
     "text": [
      "\n",
      "  0%|          | 0/150 [00:00<?, ?it/s]\u001b[A\n",
      " 38%|███▊      | 57/150 [08:55<14:33,  9.39s/it]"
     ]
    },
    {
     "name": "stdout",
     "output_type": "stream",
     "text": [
      "FINISHED i: 57\n",
      "BATCH: 750 ETA: 0.05 Lambda: 0.1 ACCURACY 0.275\n",
      "FINAL EPOCH: 42\n"
     ]
    },
    {
     "name": "stderr",
     "output_type": "stream",
     "text": [
      "\n",
      "  0%|          | 0/150 [00:00<?, ?it/s]\u001b[A\n",
      " 52%|█████▏    | 78/150 [11:56<11:01,  9.18s/it]"
     ]
    },
    {
     "name": "stdout",
     "output_type": "stream",
     "text": [
      "FINISHED i: 78\n",
      "BATCH: 750 ETA: 0.1 Lambda: 0.0 ACCURACY 0.406\n",
      "FINAL EPOCH: 63\n"
     ]
    },
    {
     "name": "stderr",
     "output_type": "stream",
     "text": [
      "\n",
      "  0%|          | 0/150 [00:00<?, ?it/s]\u001b[A\n",
      " 12%|█▏        | 18/150 [02:49<20:40,  9.40s/it]"
     ]
    },
    {
     "name": "stdout",
     "output_type": "stream",
     "text": [
      "FINISHED i: 18\n",
      "BATCH: 750 ETA: 0.1 Lambda: 0.1 ACCURACY 0.198\n",
      "FINAL EPOCH: 3\n"
     ]
    },
    {
     "name": "stderr",
     "output_type": "stream",
     "text": [
      "\n",
      "  0%|          | 0/150 [00:00<?, ?it/s]\u001b[A\n",
      " 27%|██▋       | 41/150 [06:10<16:23,  9.03s/it]"
     ]
    },
    {
     "name": "stdout",
     "output_type": "stream",
     "text": [
      "FINISHED i: 41\n",
      "BATCH: 750 ETA: 0.25 Lambda: 0.0 ACCURACY 0.199\n",
      "FINAL EPOCH: 26\n"
     ]
    },
    {
     "name": "stderr",
     "output_type": "stream",
     "text": [
      "\n",
      "  0%|          | 0/150 [00:00<?, ?it/s]\u001b[A\n",
      " 91%|█████████▏| 137/150 [21:23<02:01,  9.37s/it]"
     ]
    },
    {
     "name": "stdout",
     "output_type": "stream",
     "text": [
      "FINISHED i: 137\n",
      "BATCH: 750 ETA: 0.25 Lambda: 0.1 ACCURACY 0.347\n",
      "FINAL EPOCH: 122\n"
     ]
    },
    {
     "name": "stderr",
     "output_type": "stream",
     "text": [
      "\n",
      "  0%|          | 0/150 [00:00<?, ?it/s]\u001b[A\n",
      " 31%|███▏      | 47/150 [07:30<16:27,  9.59s/it]"
     ]
    },
    {
     "name": "stdout",
     "output_type": "stream",
     "text": [
      "FINISHED i: 47\n",
      "BATCH: 750 ETA: 0.5 Lambda: 0.0 ACCURACY 0.276\n",
      "FINAL EPOCH: 32\n"
     ]
    },
    {
     "name": "stderr",
     "output_type": "stream",
     "text": [
      "\n",
      "  0%|          | 0/150 [00:00<?, ?it/s]\u001b[A\n",
      " 13%|█▎        | 19/150 [02:36<18:00,  8.25s/it]"
     ]
    },
    {
     "name": "stdout",
     "output_type": "stream",
     "text": [
      "FINISHED i: 19\n",
      "BATCH: 750 ETA: 0.5 Lambda: 0.1 ACCURACY 0.1\n",
      "FINAL EPOCH: 4\n"
     ]
    },
    {
     "name": "stderr",
     "output_type": "stream",
     "text": [
      "\n",
      "  0%|          | 0/150 [00:00<?, ?it/s]\u001b[A\n",
      " 94%|█████████▍| 141/150 [21:11<01:21,  9.02s/it]"
     ]
    },
    {
     "name": "stdout",
     "output_type": "stream",
     "text": [
      "FINISHED i: 141\n",
      "BATCH: 1000 ETA: 0.01 Lambda: 0.0 ACCURACY 0.419\n",
      "FINAL EPOCH: 126\n"
     ]
    },
    {
     "name": "stderr",
     "output_type": "stream",
     "text": [
      "\n",
      "  0%|          | 0/150 [00:00<?, ?it/s]\u001b[A\n",
      " 31%|███       | 46/150 [06:45<15:16,  8.81s/it]"
     ]
    },
    {
     "name": "stdout",
     "output_type": "stream",
     "text": [
      "FINISHED i: 46\n",
      "BATCH: 1000 ETA: 0.01 Lambda: 0.1 ACCURACY 0.356\n",
      "FINAL EPOCH: 31\n"
     ]
    },
    {
     "name": "stderr",
     "output_type": "stream",
     "text": [
      "\n",
      "  0%|          | 0/150 [00:00<?, ?it/s]\u001b[A\n",
      " 71%|███████▏  | 107/150 [16:03<06:27,  9.00s/it]"
     ]
    },
    {
     "name": "stdout",
     "output_type": "stream",
     "text": [
      "FINISHED i: 107\n",
      "BATCH: 1000 ETA: 0.05 Lambda: 0.0 ACCURACY 0.425\n",
      "FINAL EPOCH: 92\n"
     ]
    },
    {
     "name": "stderr",
     "output_type": "stream",
     "text": [
      "\n",
      "  0%|          | 0/150 [00:00<?, ?it/s]\u001b[A\n",
      " 27%|██▋       | 41/150 [05:41<15:08,  8.34s/it]"
     ]
    },
    {
     "name": "stdout",
     "output_type": "stream",
     "text": [
      "FINISHED i: 41\n",
      "BATCH: 1000 ETA: 0.05 Lambda: 0.1 ACCURACY 0.247\n",
      "FINAL EPOCH: 26\n"
     ]
    },
    {
     "name": "stderr",
     "output_type": "stream",
     "text": [
      "\n",
      "  0%|          | 0/150 [00:00<?, ?it/s]\u001b[A\n",
      " 17%|█▋        | 26/150 [03:52<18:28,  8.94s/it]"
     ]
    },
    {
     "name": "stdout",
     "output_type": "stream",
     "text": [
      "FINISHED i: 26\n",
      "BATCH: 1000 ETA: 0.1 Lambda: 0.0 ACCURACY 0.192\n",
      "FINAL EPOCH: 11\n"
     ]
    },
    {
     "name": "stderr",
     "output_type": "stream",
     "text": [
      "\n",
      "  0%|          | 0/150 [00:00<?, ?it/s]\u001b[A\n",
      " 17%|█▋        | 25/150 [03:45<18:45,  9.00s/it]"
     ]
    },
    {
     "name": "stdout",
     "output_type": "stream",
     "text": [
      "FINISHED i: 25\n",
      "BATCH: 1000 ETA: 0.1 Lambda: 0.1 ACCURACY 0.146\n",
      "FINAL EPOCH: 10\n"
     ]
    },
    {
     "name": "stderr",
     "output_type": "stream",
     "text": [
      "\n",
      "  0%|          | 0/150 [00:00<?, ?it/s]\u001b[A\n",
      " 31%|███▏      | 47/150 [07:06<15:34,  9.08s/it]"
     ]
    },
    {
     "name": "stdout",
     "output_type": "stream",
     "text": [
      "FINISHED i: 47\n",
      "BATCH: 1000 ETA: 0.25 Lambda: 0.0 ACCURACY 0.227\n",
      "FINAL EPOCH: 32\n"
     ]
    },
    {
     "name": "stderr",
     "output_type": "stream",
     "text": [
      "\n",
      "  0%|          | 0/150 [00:00<?, ?it/s]\u001b[A\n",
      " 35%|███▌      | 53/150 [07:45<14:12,  8.79s/it]"
     ]
    },
    {
     "name": "stdout",
     "output_type": "stream",
     "text": [
      "FINISHED i: 53\n",
      "BATCH: 1000 ETA: 0.25 Lambda: 0.1 ACCURACY 0.194\n",
      "FINAL EPOCH: 38\n"
     ]
    },
    {
     "name": "stderr",
     "output_type": "stream",
     "text": [
      "\n",
      "  0%|          | 0/150 [00:00<?, ?it/s]\u001b[A\n",
      " 25%|██▌       | 38/150 [05:49<17:09,  9.19s/it]"
     ]
    },
    {
     "name": "stdout",
     "output_type": "stream",
     "text": [
      "FINISHED i: 38\n",
      "BATCH: 1000 ETA: 0.5 Lambda: 0.0 ACCURACY 0.304\n",
      "FINAL EPOCH: 23\n"
     ]
    },
    {
     "name": "stderr",
     "output_type": "stream",
     "text": [
      "\n",
      "  0%|          | 0/150 [00:00<?, ?it/s]\u001b[A\n",
      " 12%|█▏        | 18/150 [02:50<20:47,  9.45s/it]"
     ]
    },
    {
     "name": "stdout",
     "output_type": "stream",
     "text": [
      "FINISHED i: 18\n",
      "BATCH: 1000 ETA: 0.5 Lambda: 0.1 ACCURACY 0.1\n",
      "FINAL EPOCH: 3\n"
     ]
    },
    {
     "name": "stderr",
     "output_type": "stream",
     "text": [
      "\n",
      "  0%|          | 0/150 [00:00<?, ?it/s]\u001b[A\n",
      " 40%|████      | 60/150 [09:30<14:16,  9.51s/it]"
     ]
    },
    {
     "name": "stdout",
     "output_type": "stream",
     "text": [
      "FINISHED i: 60\n",
      "BATCH: 2500 ETA: 0.01 Lambda: 0.0 ACCURACY 0.378\n",
      "FINAL EPOCH: 45\n"
     ]
    },
    {
     "name": "stderr",
     "output_type": "stream",
     "text": [
      "\n",
      "  0%|          | 0/150 [00:00<?, ?it/s]\u001b[A\n",
      "  1%|          | 1/150 [00:07<18:46,  7.56s/it]\u001b[A\n",
      " 47%|████▋     | 70/150 [10:36<12:07,  9.09s/it]"
     ]
    },
    {
     "name": "stdout",
     "output_type": "stream",
     "text": [
      "FINISHED i: 70\n",
      "BATCH: 2500 ETA: 0.01 Lambda: 0.1 ACCURACY 0.373\n",
      "FINAL EPOCH: 55\n"
     ]
    },
    {
     "name": "stderr",
     "output_type": "stream",
     "text": [
      "\n",
      "  0%|          | 0/150 [00:00<?, ?it/s]\u001b[A\n",
      " 78%|███████▊  | 117/150 [17:44<05:00,  9.10s/it]"
     ]
    },
    {
     "name": "stdout",
     "output_type": "stream",
     "text": [
      "FINISHED i: 117\n",
      "BATCH: 2500 ETA: 0.05 Lambda: 0.0 ACCURACY 0.422\n",
      "FINAL EPOCH: 102\n"
     ]
    },
    {
     "name": "stderr",
     "output_type": "stream",
     "text": [
      "\n",
      "  0%|          | 0/150 [00:00<?, ?it/s]\u001b[A\n",
      "  1%|          | 1/150 [00:07<18:49,  7.58s/it]\u001b[A\n",
      "100%|██████████| 150/150 [22:37<00:00,  9.05s/it]\n"
     ]
    },
    {
     "name": "stdout",
     "output_type": "stream",
     "text": [
      "BATCH: 2500 ETA: 0.05 Lambda: 0.1 ACCURACY 0.378\n",
      "FINAL EPOCH: 136\n"
     ]
    },
    {
     "name": "stderr",
     "output_type": "stream",
     "text": [
      " 27%|██▋       | 40/150 [06:38<18:14,  9.95s/it]"
     ]
    },
    {
     "name": "stdout",
     "output_type": "stream",
     "text": [
      "FINISHED i: 40\n",
      "BATCH: 2500 ETA: 0.1 Lambda: 0.0 ACCURACY 0.297\n",
      "FINAL EPOCH: 25\n"
     ]
    },
    {
     "name": "stderr",
     "output_type": "stream",
     "text": [
      "\n",
      "  0%|          | 0/150 [00:00<?, ?it/s]\u001b[A\n",
      " 14%|█▍        | 21/150 [03:32<21:42, 10.10s/it]"
     ]
    },
    {
     "name": "stdout",
     "output_type": "stream",
     "text": [
      "FINISHED i: 21\n",
      "BATCH: 2500 ETA: 0.1 Lambda: 0.1 ACCURACY 0.194\n",
      "FINAL EPOCH: 6\n"
     ]
    },
    {
     "name": "stderr",
     "output_type": "stream",
     "text": [
      "\n",
      "  0%|          | 0/150 [00:00<?, ?it/s]\u001b[A\n",
      " 29%|██▉       | 44/150 [06:59<16:50,  9.54s/it]"
     ]
    },
    {
     "name": "stdout",
     "output_type": "stream",
     "text": [
      "FINISHED i: 44\n",
      "BATCH: 2500 ETA: 0.25 Lambda: 0.0 ACCURACY 0.267\n",
      "FINAL EPOCH: 29\n"
     ]
    },
    {
     "name": "stderr",
     "output_type": "stream",
     "text": [
      "\n",
      "  0%|          | 0/150 [00:00<?, ?it/s]\u001b[A\n",
      " 14%|█▍        | 21/150 [03:29<21:26,  9.97s/it]"
     ]
    },
    {
     "name": "stdout",
     "output_type": "stream",
     "text": [
      "FINISHED i: 21\n",
      "BATCH: 2500 ETA: 0.25 Lambda: 0.1 ACCURACY 0.147\n",
      "FINAL EPOCH: 6\n"
     ]
    },
    {
     "name": "stderr",
     "output_type": "stream",
     "text": [
      "\n",
      "  0%|          | 0/150 [00:00<?, ?it/s]\u001b[A\n",
      " 28%|██▊       | 42/150 [06:22<16:24,  9.11s/it]"
     ]
    },
    {
     "name": "stdout",
     "output_type": "stream",
     "text": [
      "FINISHED i: 42\n",
      "BATCH: 2500 ETA: 0.5 Lambda: 0.0 ACCURACY 0.274\n",
      "FINAL EPOCH: 27\n"
     ]
    },
    {
     "name": "stderr",
     "output_type": "stream",
     "text": [
      "\n",
      "  0%|          | 0/150 [00:00<?, ?it/s]\u001b[A\n",
      " 54%|█████▍    | 81/150 [12:27<10:36,  9.22s/it]"
     ]
    },
    {
     "name": "stdout",
     "output_type": "stream",
     "text": [
      "FINISHED i: 81\n",
      "BATCH: 2500 ETA: 0.5 Lambda: 0.1 ACCURACY 0.188\n",
      "FINAL EPOCH: 66\n"
     ]
    },
    {
     "name": "stderr",
     "output_type": "stream",
     "text": [
      "\n",
      "  0%|          | 0/150 [00:00<?, ?it/s]\u001b[A\n",
      " 37%|███▋      | 56/150 [08:31<14:19,  9.14s/it]"
     ]
    },
    {
     "name": "stdout",
     "output_type": "stream",
     "text": [
      "FINISHED i: 56\n",
      "BATCH: 5000 ETA: 0.01 Lambda: 0.0 ACCURACY 0.37\n",
      "FINAL EPOCH: 41\n"
     ]
    },
    {
     "name": "stderr",
     "output_type": "stream",
     "text": [
      "\n",
      "  0%|          | 0/150 [00:00<?, ?it/s]\u001b[A\n",
      " 60%|██████    | 90/150 [14:44<09:49,  9.83s/it]"
     ]
    },
    {
     "name": "stdout",
     "output_type": "stream",
     "text": [
      "FINISHED i: 90\n",
      "BATCH: 5000 ETA: 0.01 Lambda: 0.1 ACCURACY 0.374\n",
      "FINAL EPOCH: 75\n"
     ]
    },
    {
     "name": "stderr",
     "output_type": "stream",
     "text": [
      "\n",
      "  0%|          | 0/150 [00:00<?, ?it/s]\u001b[A\n",
      " 57%|█████▋    | 86/150 [12:26<09:15,  8.68s/it]"
     ]
    },
    {
     "name": "stdout",
     "output_type": "stream",
     "text": [
      "FINISHED i: 86\n",
      "BATCH: 5000 ETA: 0.05 Lambda: 0.0 ACCURACY 0.4\n",
      "FINAL EPOCH: 71\n"
     ]
    },
    {
     "name": "stderr",
     "output_type": "stream",
     "text": [
      "\n",
      "  0%|          | 0/150 [00:00<?, ?it/s]\u001b[A\n",
      " 24%|██▍       | 36/150 [06:01<19:04, 10.04s/it]"
     ]
    },
    {
     "name": "stdout",
     "output_type": "stream",
     "text": [
      "FINISHED i: 36\n",
      "BATCH: 5000 ETA: 0.05 Lambda: 0.1 ACCURACY 0.252\n",
      "FINAL EPOCH: 21\n"
     ]
    },
    {
     "name": "stderr",
     "output_type": "stream",
     "text": [
      "\n",
      "  0%|          | 0/150 [00:00<?, ?it/s]\u001b[A\n",
      " 73%|███████▎  | 109/150 [17:24<06:32,  9.58s/it]"
     ]
    },
    {
     "name": "stdout",
     "output_type": "stream",
     "text": [
      "FINISHED i: 109\n",
      "BATCH: 5000 ETA: 0.1 Lambda: 0.0 ACCURACY 0.413\n",
      "FINAL EPOCH: 94\n"
     ]
    },
    {
     "name": "stderr",
     "output_type": "stream",
     "text": [
      "\n",
      "  0%|          | 0/150 [00:00<?, ?it/s]\u001b[A\n",
      " 19%|█▊        | 28/150 [04:02<17:35,  8.65s/it]"
     ]
    },
    {
     "name": "stdout",
     "output_type": "stream",
     "text": [
      "FINISHED i: 28\n",
      "BATCH: 5000 ETA: 0.1 Lambda: 0.1 ACCURACY 0.192\n",
      "FINAL EPOCH: 13\n"
     ]
    },
    {
     "name": "stderr",
     "output_type": "stream",
     "text": [
      "\n",
      "  0%|          | 0/150 [00:00<?, ?it/s]\u001b[A\n",
      " 91%|█████████▏| 137/150 [21:26<02:02,  9.39s/it]"
     ]
    },
    {
     "name": "stdout",
     "output_type": "stream",
     "text": [
      "FINISHED i: 137\n",
      "BATCH: 5000 ETA: 0.25 Lambda: 0.0 ACCURACY 0.429\n",
      "FINAL EPOCH: 122\n"
     ]
    },
    {
     "name": "stderr",
     "output_type": "stream",
     "text": [
      "\n",
      "  0%|          | 0/150 [00:00<?, ?it/s]\u001b[A\n",
      " 33%|███▎      | 50/150 [07:08<14:16,  8.56s/it]"
     ]
    },
    {
     "name": "stdout",
     "output_type": "stream",
     "text": [
      "FINISHED i: 50\n",
      "BATCH: 5000 ETA: 0.25 Lambda: 0.1 ACCURACY 0.172\n",
      "FINAL EPOCH: 35\n"
     ]
    },
    {
     "name": "stderr",
     "output_type": "stream",
     "text": [
      "\n",
      "  0%|          | 0/150 [00:00<?, ?it/s]\u001b[A\n",
      " 19%|█▊        | 28/150 [04:39<20:16,  9.97s/it]"
     ]
    },
    {
     "name": "stdout",
     "output_type": "stream",
     "text": [
      "FINISHED i: 28\n",
      "BATCH: 5000 ETA: 0.5 Lambda: 0.0 ACCURACY 0.18\n",
      "FINAL EPOCH: 13\n"
     ]
    },
    {
     "name": "stderr",
     "output_type": "stream",
     "text": [
      "\n",
      "  0%|          | 0/150 [00:00<?, ?it/s]\u001b[A\n",
      " 17%|█▋        | 25/150 [04:09<20:47,  9.98s/it]"
     ]
    },
    {
     "name": "stdout",
     "output_type": "stream",
     "text": [
      "FINISHED i: 25\n",
      "BATCH: 5000 ETA: 0.5 Lambda: 0.1 ACCURACY 0.133\n",
      "FINAL EPOCH: 10\n",
      "ACCURACIES ACHIEVED AFTER TRAINING\n",
      "TRAINING ACCURACY: 0.447881355932\n",
      "VALIDATION ACCURACY: 0.438\n",
      "TEST ACCURACY: 0.3787\n"
     ]
    },
    {
     "data": {
      "image/png": "[encoded data removed]",
      "text/plain": [
       "<matplotlib.figure.Figure at 0x7fc38c1a3588>"
      ]
     },
     "metadata": {},
     "output_type": "display_data"
    },
    {
     "data": {
      "image/png": "[encoded data removed]",
      "text/plain": [
       "<matplotlib.figure.Figure at 0x7fc38c1a3668>"
      ]
     },
     "metadata": {},
     "output_type": "display_data"
    }
   ],
   "source": [
    "# Grid search\n",
    "batch_sizes = [100, 500, 750, 1000, 2500, 5000]\n",
    "lr_params = [(0.01, 1.0), (0.05, 0.2), (0.1, 0.1), (0.25, 0.04), (0.5, 0.02)] #learning rates along with decay rates\n",
    "lamdas = [0.0, 0.1] # Regularization constant\n",
    "n_epochs = 150 #No need for hyperparameter tuning since early stopping is used\n",
    "patience = 15\n",
    "max_accuracy = -1\n",
    "max_accuracy_model = None\n",
    "max_accuracy_params = None\n",
    "max_accuracy_lists = None\n",
    "\n",
    "for batch_size in batch_sizes:\n",
    "    for eta, decay_rate in lr_params:\n",
    "        for lamda in lamdas:\n",
    "            GDparams = Params(n_batch = batch_size, eta = eta, n_epochs = n_epochspochs, decay_rate = decay_rate, patience = patience) \n",
    "            network_model = FeedforwardNet(d = X_tr.shape[1], K = Y_tr.shape[1], mean = 0.0, s = 0.01)\n",
    "            tr_loss, val_loss, tr_accuracy, val_accuracy = network_model.miniBatchGD(X_tr, Y_tr, GDparams, lamda,\n",
    "                                                            GDmethod = \"analytical\", verbose = False,\n",
    "                                                            X_val = X_val, Y_val = Y_val)\n",
    "            if(val_accuracy[-1] > max_accuracy):\n",
    "                max_accuracy_model = network_model\n",
    "                max_accuracy_params = GDparams\n",
    "                max_accuracy = val_accuracy[-1]\n",
    "                max_accuracy_lists = (tr_loss, val_loss, tr_accuracy, val_accuracy)\n",
    "            print(\"BATCH: \" + str(batch_size) + \" ETA: \" + str(eta) + \" Lambda: \" + str(lamda) + \" ACCURACY \" + str(val_accuracy[-1] ))\n",
    "            print(\"FINAL EPOCH: \" + str(len(val_accuracy)))\n",
    "# Report final training, validation and test accuracies\n",
    "print(\"ACCURACIES ACHIEVED AFTER TRAINING\")\n",
    "print(\"TRAINING ACCURACY: \" + str(max_accuracy_lists[2][-1]))\n",
    "print(\"VALIDATION ACCURACY: \" + str(max_accuracy_lists[3][-1]))\n",
    "print(\"TEST ACCURACY: \" + str(max_accuracy_model.computeAccuracy(X_tst, y_tst)))\n",
    "# Plot cost function values and accuracies achieved per epoch\n",
    "makePlots(max_accuracy_lists[0], max_accuracy_lists[1], max_accuracy_lists[2], max_accuracy_lists[3])\n",
    "# Visualize learned weights\n",
    "visualizeWeights(max_accuracy_model)"
   ]
  },
  {
   "cell_type": "code",
   "execution_count": null,
   "metadata": {},
   "outputs": [],
   "source": []
  }
 ],
 "metadata": {
  "kernelspec": {
   "display_name": "Python 3",
   "language": "python",
   "name": "python3"
  },
  "language_info": {
   "codemirror_mode": {
    "name": "ipython",
    "version": 3
   },
   "file_extension": ".py",
   "mimetype": "text/x-python",
   "name": "python",
   "nbconvert_exporter": "python",
   "pygments_lexer": "ipython3",
   "version": "3.5.2"
  }
 },
 "nbformat": 4,
 "nbformat_minor": 2
}

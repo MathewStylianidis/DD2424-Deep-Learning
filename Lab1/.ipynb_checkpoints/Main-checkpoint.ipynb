{
 "cells": [
  {
   "cell_type": "code",
   "execution_count": 387,
   "metadata": {},
   "outputs": [],
   "source": [
    "import matplotlib.pyplot as plt\n",
    "import numpy as np\n",
    "import pickle\n",
    "from scipy import misc"
   ]
  },
  {
   "cell_type": "code",
   "execution_count": 388,
   "metadata": {},
   "outputs": [],
   "source": [
    "# Display function for CIFAR-10\n",
    "def display(image):\n",
    "    plt.imshow(misc.toimage(image.reshape((3, 32, 32)).transpose(1,2,0)), interpolation = 'nearest')"
   ]
  },
  {
   "cell_type": "code",
   "execution_count": 389,
   "metadata": {},
   "outputs": [],
   "source": [
    "data_directory_path = './Datasets/cifar-10-batches-py'"
   ]
  },
  {
   "cell_type": "code",
   "execution_count": 390,
   "metadata": {},
   "outputs": [],
   "source": [
    "def unpickle(file):\n",
    "    with open(file, 'rb') as fo:\n",
    "        dict = pickle.load(fo, encoding='bytes')\n",
    "    return dict"
   ]
  },
  {
   "cell_type": "code",
   "execution_count": 391,
   "metadata": {},
   "outputs": [],
   "source": [
    "def loadBatch(filepath):\n",
    "    \"\"\"\n",
    "    Loads the input data from the CIFAR-10 file given by filepath, encodes\n",
    "    the labels given by scalars into hot key encoding vectors and returns\n",
    "    the (X, Y, y) tuple where X is the inputs, Y the hotkey encodings and\n",
    "    y and scalar labels.\n",
    "    \"\"\"\n",
    "    dataset = unpickle(filepath)\n",
    "    dataSamples = dataset[b'data']\n",
    "    labels = dataset[b'labels']\n",
    "    label_count = np.max(labels)\n",
    "    hotKeyEncodings = np.array([[0 if labels[i] != j else 1 for j in range(label_count + 1)] for i in range(len(labels))])\n",
    "    return dataSamples, hotKeyEncodings, labels"
   ]
  },
  {
   "cell_type": "code",
   "execution_count": 392,
   "metadata": {},
   "outputs": [],
   "source": [
    "def initializeNetworkParams(d, K, mean, s):\n",
    "    \"\"\"\n",
    "    Initializes the Weight matrix and the bias vector\n",
    "    with a Gaussian distribution.\n",
    "    \n",
    "    Args:\n",
    "        d: input dimensions\n",
    "        K: output dimensions\n",
    "        mean: mean of Gaussian\n",
    "        s: standard deviation of Gaussian\n",
    "        \n",
    "    Returns:\n",
    "        A tuple with the weight matrix W and the bias vector b\n",
    "        in this order.\n",
    "    \"\"\"\n",
    "    W = np.random.normal(0, 0.01, (K, d)) # Weight matrix\n",
    "    b = np.random.normal(0, 0.01, (K, 1)) # Bias vector\n",
    "    return (W, b)\n",
    "    \n",
    "    "
   ]
  },
  {
   "cell_type": "code",
   "execution_count": 393,
   "metadata": {},
   "outputs": [],
   "source": [
    "def softmax(s):\n",
    "    \"\"\"\n",
    "    Implementation of the softmax activation function\n",
    "    \n",
    "    Args:\n",
    "        s: an 1xd vector of a classifier's outputs\n",
    "    \n",
    "    Returns:\n",
    "        An 1xd vector with the results of softmax given the input\n",
    "        vector s.\n",
    "    \"\"\"\n",
    "    output_exp_sum = np.sum(np.exp(s), axis = 0)\n",
    "    p = np.exp(s) / output_exp_sum\n",
    "    p = np.where(p < 0.0, 0, p) #Round negative probabilities to zero\n",
    "    return p"
   ]
  },
  {
   "cell_type": "code",
   "execution_count": 394,
   "metadata": {},
   "outputs": [],
   "source": [
    "def evaluateClassifier(X, W, b):\n",
    "    \"\"\"\n",
    "    Evaluates the output of the classifier given the weights,\n",
    "    the bias and the inputs.\n",
    "    \n",
    "    Args:\n",
    "        X: An Nxd matrix with the N d-dimensional input samples.\n",
    "        W: A Kxd matrix with the weights of the neural network.\n",
    "        b: An 1xd vector with the bias values of each neuron.\n",
    "    \n",
    "    Returns:\n",
    "        The  Kx1 output vector of the neural network passed through\n",
    "        the softmax activation function.\n",
    "    \"\"\"\n",
    "    s = np.dot(W, X.T) + b\n",
    "    return softmax(s)"
   ]
  },
  {
   "cell_type": "code",
   "execution_count": 395,
   "metadata": {},
   "outputs": [],
   "source": [
    "def computeCost(X, Y, W, b, lamda):\n",
    "    \"\"\"\n",
    "    Evaluates the loss function of the network.\n",
    "    \n",
    "    Args:\n",
    "        X: Input matrix\n",
    "        Y: Output matrix\n",
    "        W: Weight matrix\n",
    "        b: bias vector\n",
    "        lambda: Constant that determines the amount\n",
    "            of loss induced by the regularization term.\n",
    "    Returns:\n",
    "        A scalar corresponding to the loss.\n",
    "    \"\"\"\n",
    "    return (1 / X.shape[0]) * np.sum(cross_entropy_loss(X, Y, W, b)) + lamda * np.sum(W ** 2)"
   ]
  },
  {
   "cell_type": "code",
   "execution_count": 396,
   "metadata": {},
   "outputs": [],
   "source": [
    "def cross_entropy_loss(X, Y, W, b):\n",
    "    \"\"\"\n",
    "    Calculates the cross entropy loss\n",
    "    \"\"\"\n",
    "    return -np.log(Y.dot(evaluateClassifier(X, W, b)))"
   ]
  },
  {
   "cell_type": "code",
   "execution_count": 397,
   "metadata": {},
   "outputs": [],
   "source": [
    "def computeAccuracy(X, y, W, b):\n",
    "    \"\"\"\n",
    "    Computes the accuracy of the network.\n",
    "    \n",
    "    Args:\n",
    "        X: Input matrix\n",
    "        y: Output labels\n",
    "        W: Weight matrix\n",
    "        b: bias vector\n",
    "    \n",
    "    Returns:\n",
    "        The accuracy of the network (i.e. the percentage of\n",
    "        correctly classified inputs in X).\n",
    "    \n",
    "    \"\"\"\n",
    "    softmax_outputs = evaluateClassifier(X, W, b) # Get probability distribution of outputs\n",
    "    # Reduce to a vector of the labels with the highest probability\n",
    "    predictions = np.argmax(softmax_outputs)\n",
    "    accuracy = (predictions == y).all(0).mean()\n",
    "    return accuracy    "
   ]
  },
  {
   "cell_type": "code",
   "execution_count": 407,
   "metadata": {},
   "outputs": [],
   "source": [
    "def computeGradients(X, Y, P, W, b, lamda):\n",
    "    \"\"\"\n",
    "    Computes the gradient of the error with the regularization\n",
    "    term with respect to the weights and the bias.\n",
    "    \n",
    "     Args:\n",
    "        X: Input matrix\n",
    "        Y: Desired output matrix\n",
    "        P: Output matrix\n",
    "        W: Weight matrix\n",
    "        b: bias vector\n",
    "        lambda: Constant that determines the amount\n",
    "            of loss induced by the regularization term.\n",
    "    \n",
    "    Returns:\n",
    "        A tuple with the gradient w.r.t the weights and the bias\n",
    "        (grad_W, grad_b).\n",
    "    \"\"\"\n",
    "    "
   ]
  },
  {
   "cell_type": "code",
   "execution_count": 398,
   "metadata": {},
   "outputs": [],
   "source": [
    "# Load training data (X is the input data, Y the hotkey encodings and y the label code numbers)\n",
    "#X_tr, Y_tr, y_tr = loadBatch(data_directory_path + '/data_batch_' + str(1))\n",
    "BatchList = []\n",
    "for i in range(1,6):\n",
    "    Xnew, Ynew, ynew = loadBatch(data_directory_path + '/data_batch_' + str(i))\n",
    "    #X_tr = np.vstack((X_tr, Xnew))\n",
    "    #Y_tr = np.vstack((Y_tr, Ynew))\n",
    "    #y_tr = np.hstack((y_tr, ynew))\n",
    "    BatchList.append((Xnew, Ynew, ynew))"
   ]
  },
  {
   "cell_type": "code",
   "execution_count": 399,
   "metadata": {},
   "outputs": [],
   "source": [
    "# Holdout data from training data for the validation set\n",
    "X_tr, Y_tr, y_tr  = BatchList[0]\n",
    "X_val, Y_val, y_val = BatchList[1]"
   ]
  },
  {
   "cell_type": "code",
   "execution_count": 400,
   "metadata": {},
   "outputs": [],
   "source": [
    "# Load test data\n",
    "X_tst, Y_tst, y_tst = loadBatch(data_directory_path + '/test_batch')"
   ]
  },
  {
   "cell_type": "code",
   "execution_count": 401,
   "metadata": {},
   "outputs": [
    {
     "data": {
      "image/png": "[encoded data removed]",
      "text/plain": [
       "<matplotlib.figure.Figure at 0x7fb8a2cd2d30>"
      ]
     },
     "metadata": {},
     "output_type": "display_data"
    }
   ],
   "source": [
    "# Visualize an image for debugging reasons\n",
    "image_index = 17\n",
    "display(X_tr[image_index])"
   ]
  },
  {
   "cell_type": "code",
   "execution_count": 402,
   "metadata": {},
   "outputs": [],
   "source": [
    "# Initialize model parameters\n",
    "N = X_tr.shape[0] # Number of samples\n",
    "d = X_tr.shape[1] # Input dimensionality\n",
    "K = Y_tr.shape[1] # Output dimensionality\n",
    "lamda = 1.0 # Regularization constant\n",
    "mean = 0.0\n",
    "standard_deviation = 0.01\n",
    "W, b = initializeNetworkParams(d, K, mean, standard_deviation)"
   ]
  },
  {
   "cell_type": "code",
   "execution_count": 403,
   "metadata": {},
   "outputs": [
    {
     "name": "stdout",
     "output_type": "stream",
     "text": [
      "[ 1.  1.  1.  1.  1.  1.  1.  1.  1.  1.  1.  1.  1.  1.  1.  1.  1.  1.\n",
      "  1.  1.  1.  1.  1.  1.  1.  1.  1.  1.  1.  1.  1.  1.  1.  1.  1.  1.\n",
      "  1.  1.  1.  1.  1.  1.  1.  1.  1.  1.  1.  1.  1.  1.  1.  1.  1.  1.\n",
      "  1.  1.  1.  1.  1.  1.  1.  1.  1.  1.  1.  1.  1.  1.  1.  1.  1.  1.\n",
      "  1.  1.  1.  1.  1.  1.  1.  1.  1.  1.  1.  1.  1.  1.  1.  1.  1.  1.\n",
      "  1.  1.  1.  1.  1.  1.  1.  1.  1.  1.]\n"
     ]
    }
   ],
   "source": [
    "# Checking that the function works on a subset of inputs\n",
    "P = evaluateClassifier(X_tr[:100], W, b)\n",
    "sums = np.sum(P, axis = 0)\n",
    "print(sums) # Check if the sums for each sample sum up to 1"
   ]
  },
  {
   "cell_type": "code",
   "execution_count": 404,
   "metadata": {},
   "outputs": [
    {
     "name": "stdout",
     "output_type": "stream",
     "text": [
      "1126875.28453\n"
     ]
    }
   ],
   "source": [
    "cost = computeCost(X_tr, Y_tr, W, b, lamda)\n",
    "print(cost)"
   ]
  },
  {
   "cell_type": "code",
   "execution_count": 405,
   "metadata": {},
   "outputs": [
    {
     "name": "stdout",
     "output_type": "stream",
     "text": [
      "0.0\n"
     ]
    }
   ],
   "source": [
    "acc = computeAccuracy(X_tr, y_tr, W, b)\n",
    "print(acc)"
   ]
  },
  {
   "cell_type": "code",
   "execution_count": 409,
   "metadata": {},
   "outputs": [
    {
     "ename": "TypeError",
     "evalue": "'NoneType' object is not iterable",
     "output_type": "error",
     "traceback": [
      "\u001b[0;31m---------------------------------------------------------------------------\u001b[0m",
      "\u001b[0;31mTypeError\u001b[0m                                 Traceback (most recent call last)",
      "\u001b[0;32m<ipython-input-409-72a7a1791d7a>\u001b[0m in \u001b[0;36m<module>\u001b[0;34m()\u001b[0m\n\u001b[0;32m----> 1\u001b[0;31m \u001b[0mgrad_W\u001b[0m\u001b[0;34m,\u001b[0m \u001b[0mgrad_b\u001b[0m \u001b[0;34m=\u001b[0m \u001b[0mcomputeGradients\u001b[0m\u001b[0;34m(\u001b[0m\u001b[0mX_tr\u001b[0m\u001b[0;34m,\u001b[0m \u001b[0mY_tr\u001b[0m\u001b[0;34m,\u001b[0m \u001b[0mP\u001b[0m\u001b[0;34m,\u001b[0m \u001b[0mW\u001b[0m\u001b[0;34m,\u001b[0m \u001b[0mb\u001b[0m\u001b[0;34m,\u001b[0m \u001b[0mlamda\u001b[0m\u001b[0;34m)\u001b[0m\u001b[0;34m\u001b[0m\u001b[0m\n\u001b[0m",
      "\u001b[0;31mTypeError\u001b[0m: 'NoneType' object is not iterable"
     ]
    }
   ],
   "source": [
    "grad_W, grad_b = computeGradients(X_tr, Y_tr, P, W, b, lamda)"
   ]
  },
  {
   "cell_type": "code",
   "execution_count": null,
   "metadata": {},
   "outputs": [],
   "source": []
  }
 ],
 "metadata": {
  "kernelspec": {
   "display_name": "Python 3",
   "language": "python",
   "name": "python3"
  },
  "language_info": {
   "codemirror_mode": {
    "name": "ipython",
    "version": 3
   },
   "file_extension": ".py",
   "mimetype": "text/x-python",
   "name": "python",
   "nbconvert_exporter": "python",
   "pygments_lexer": "ipython3",
   "version": "3.5.2"
  }
 },
 "nbformat": 4,
 "nbformat_minor": 2
}

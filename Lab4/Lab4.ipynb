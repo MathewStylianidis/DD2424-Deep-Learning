{
 "cells": [
  {
   "cell_type": "code",
   "execution_count": 54,
   "metadata": {},
   "outputs": [],
   "source": [
    "import numpy as np\n",
    "import matplotlib.pyplot as plt"
   ]
  },
  {
   "cell_type": "markdown",
   "metadata": {},
   "source": [
    "###  Read in the data"
   ]
  },
  {
   "cell_type": "code",
   "execution_count": 55,
   "metadata": {},
   "outputs": [],
   "source": [
    "with open('goblet_book.txt', 'r') as fileobj:\n",
    "    data = fileobj.read()"
   ]
  },
  {
   "cell_type": "code",
   "execution_count": 56,
   "metadata": {},
   "outputs": [],
   "source": [
    "# Get dictionary of unique characters in the book\n",
    "characters = set(data)\n",
    "char_dictionary = dict([ (elem, i) for i, elem in enumerate(characters) ])\n",
    "inv_char_dictionary = {v: k for k, v in char_dictionary.items()}\n",
    "voc_size = len(char_dictionary)"
   ]
  },
  {
   "cell_type": "code",
   "execution_count": 66,
   "metadata": {},
   "outputs": [
    {
     "ename": "SyntaxError",
     "evalue": "invalid syntax (<ipython-input-66-9b42b6727f93>, line 32)",
     "output_type": "error",
     "traceback": [
      "\u001b[1;36m  File \u001b[1;32m\"<ipython-input-66-9b42b6727f93>\"\u001b[1;36m, line \u001b[1;32m32\u001b[0m\n\u001b[1;33m    self.U =\u001b[0m\n\u001b[1;37m             ^\u001b[0m\n\u001b[1;31mSyntaxError\u001b[0m\u001b[1;31m:\u001b[0m invalid syntax\n"
     ]
    }
   ],
   "source": [
    "class RNN:\n",
    "    \"\"\"\n",
    "    Implementation of a simple RNN.\n",
    "    \n",
    "    Attributes:\n",
    "        k: dimensionality of input\n",
    "        m: Hidden state dimensionality\n",
    "        eta: learning rate initial value\n",
    "        seq_length: Length of input sequences used during training\n",
    "    \"\"\"\n",
    "    \n",
    "    \n",
    "    def __init__(self, k, m = 100, seq_length = 25,  eta = 0.01, sig = 0.01):\n",
    "        '''\n",
    "        Args:\n",
    "            k: dimensionality of input\n",
    "            m: Hidden state dimensionality\n",
    "            seq_length: Length of input sequences used during training\n",
    "            eta: learning rate initial value\n",
    "            sig: standard deviation of normal distribution used to init-\n",
    "                ialize the weights\n",
    "        '''\n",
    "        # Initialize hyperparameters\n",
    "        self.m = m\n",
    "        self.eta = eta\n",
    "        self.seq_length = seq_length\n",
    "        \n",
    "        # Initialize bias vectors\n",
    "        self.b = np.zeros((m, 1))\n",
    "        self.c = np.zeros((k, 1))\n",
    "        # Initialize weight matrices\n",
    "        \n",
    "        self.U = np.zeros((m))\n",
    "        self.W = \n",
    "        self.V = "
   ]
  },
  {
   "cell_type": "code",
   "execution_count": 67,
   "metadata": {},
   "outputs": [
    {
     "ename": "TypeError",
     "evalue": "__init__() got an unexpected keyword argument 'k'",
     "output_type": "error",
     "traceback": [
      "\u001b[1;31m---------------------------------------------------------------------------\u001b[0m",
      "\u001b[1;31mTypeError\u001b[0m                                 Traceback (most recent call last)",
      "\u001b[1;32m<ipython-input-67-537375256994>\u001b[0m in \u001b[0;36m<module>\u001b[1;34m()\u001b[0m\n\u001b[1;32m----> 1\u001b[1;33m \u001b[0mrnn_model\u001b[0m \u001b[1;33m=\u001b[0m \u001b[0mRNN\u001b[0m\u001b[1;33m(\u001b[0m\u001b[0mk\u001b[0m \u001b[1;33m=\u001b[0m \u001b[0mvoc_size\u001b[0m\u001b[1;33m)\u001b[0m\u001b[1;33m\u001b[0m\u001b[0m\n\u001b[0m",
      "\u001b[1;31mTypeError\u001b[0m: __init__() got an unexpected keyword argument 'k'"
     ]
    }
   ],
   "source": [
    "rnn_model = RNN(k = voc_size)"
   ]
  },
  {
   "cell_type": "code",
   "execution_count": null,
   "metadata": {},
   "outputs": [],
   "source": []
  }
 ],
 "metadata": {
  "kernelspec": {
   "display_name": "Python 3",
   "language": "python",
   "name": "python3"
  },
  "language_info": {
   "codemirror_mode": {
    "name": "ipython",
    "version": 3
   },
   "file_extension": ".py",
   "mimetype": "text/x-python",
   "name": "python",
   "nbconvert_exporter": "python",
   "pygments_lexer": "ipython3",
   "version": "3.6.4"
  }
 },
 "nbformat": 4,
 "nbformat_minor": 2
}

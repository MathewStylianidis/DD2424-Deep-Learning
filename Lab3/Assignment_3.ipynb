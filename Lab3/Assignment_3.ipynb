{
 "cells": [
  {
   "cell_type": "markdown",
   "metadata": {},
   "source": [
    "# In this assignment, a simple ConvNet is implemented and trained to predict the language of a surname from its spelling in English."
   ]
  },
  {
   "cell_type": "code",
   "execution_count": 699,
   "metadata": {},
   "outputs": [],
   "source": [
    "import os\n",
    "import numpy as np\n",
    "import matplotlib.pyplot as plt\n",
    "from tqdm import tqdm\n",
    "from scipy.linalg import block_diag\n",
    "from scipy.io import loadmat"
   ]
  },
  {
   "cell_type": "markdown",
   "metadata": {},
   "source": [
    "## 1. ConvNet class implementation"
   ]
  },
  {
   "cell_type": "code",
   "execution_count": 860,
   "metadata": {},
   "outputs": [],
   "source": [
    "class ConvNet:\n",
    "    \"\"\"\n",
    "    A simple ConvNet implementation with 2 convolutional layers \n",
    "    followed by a fully connected layer and a softmax output \n",
    "    layer.\n",
    "    \n",
    "    Attributes:\n",
    "        n: A list of the number of filters applied at each convo-\n",
    "            lutional layer.\n",
    "        k: A list of the width of the filter window applied in each\n",
    "            convolutional layer.\n",
    "        input_dim: dimensionality of input (number of unique characters)\n",
    "        output_dim: dimensionality of output\n",
    "        max_length: maximum number of characters in an input\n",
    "        nlen_list: List with the number of columns of the input when in its original form\n",
    "            before being vectorized, for each layer.\n",
    "        eta: initial learning rate value\n",
    "        rho: momentum constant term\n",
    "        F: list of filters/weights for each one of the convolutional\n",
    "            layers.\n",
    "        W: Weights of the fully connected layer\n",
    "        \n",
    "    \"\"\"\n",
    "    \n",
    "    def __init__(self, n, k, output_dim, input_dim, nlen, eta = 0.001, rho = 0.9, he_init = False):\n",
    "        \"\"\"\n",
    "        Initializes the convolutional neural network\n",
    "    \n",
    "        Args:\n",
    "            he_init: When True He-initialization is performed for the weights\n",
    "            nlen: Number of columns of the input when in its original form\n",
    "            before being vectorized.\n",
    "        Raises:\n",
    "            Exception if the size of n and k is not the same.\n",
    "        \"\"\"\n",
    "        if(len(n) != len(k)):\n",
    "            raise Exception(\"The number of layers specified by <n> \" \\\n",
    "                            \"and <k> should be equal.\")\n",
    "        self.n = list(n)\n",
    "        self.k = list(k)\n",
    "        \n",
    "        self.input_dim = input_dim\n",
    "        self.max_length = nlen\n",
    "        \n",
    "        # TODO: Change He initialization for first layer due to the sparse nature of the input\n",
    "        self.F = []\n",
    "        if he_init is True:\n",
    "            self.F.append(np.random.normal(0, np.sqrt(2/nlen), (input_dim, self.k[0], self.n[0])))\n",
    "        else:\n",
    "            self.F.append(np.random.normal(0, 1, (input_dim, self.k[0], self.n[0])))\n",
    "        self.nlen_list = [nlen - self.k[0] + 1]\n",
    "        \n",
    "        for i in range(1, len(n)):\n",
    "            if he_init is True:\n",
    "                self.F.append(np.random.normal(0, np.sqrt(2/self.nlen_list[-1]), (self.n[i - 1], self.k[i], self.n[i])))\n",
    "            else:\n",
    "                self.F.append(np.random.normal(0, 1, (self.n[i - 1], self.k[i], self.n[i])))\n",
    "            self.nlen_list.append(self.nlen_list[-1] - self.k[1] + 1)\n",
    "        fsize = self.n[-1] * self.nlen_list[-1]\n",
    "        if he_init is True:\n",
    "            self.W = np.random.normal(0, np.sqrt(2/self.nlen_list[-1]), (output_dim, fsize))\n",
    "        else:\n",
    "            self.W = np.random.normal(0, 1, (output_dim, fsize))\n",
    "    \n",
    "    def softmax(self, s):\n",
    "        \"\"\"\n",
    "        Implementation of the softmax activation function\n",
    "\n",
    "        Args:\n",
    "            s: an 1xd vector of a classifier's outputs\n",
    "\n",
    "        Returns:\n",
    "            An 1xd vector with the results of softmax given the input\n",
    "            vector s.\n",
    "        \"\"\"\n",
    "        exponents = np.exp(s - np.max(s, axis = 0)) # Max subtraction for numerical stability\n",
    "        output_exp_sum = np.sum(exponents, axis = 0)\n",
    "        p = exponents / output_exp_sum\n",
    "        return p\n",
    "\n",
    "    def constructFilterMatrix(self, F, nlen):\n",
    "        \"\"\"\n",
    "        Constructs the matrix of the filters of a layer used to\n",
    "        perform the convolution by matrix multiplication.\n",
    "        \n",
    "        Args:\n",
    "            F: A N x k x nf containing the convolutional filters\n",
    "                of a certain layer where N is the height of the convo-\n",
    "                lutional filter, k is its width and nf is the number of\n",
    "                filters in the layer.\n",
    "            nlen: Number of columns in the input of that layer. \n",
    "        \n",
    "        Returns:\n",
    "            An (nlen - k + 1) * nf x nlen * N matrix that can be used to\n",
    "            perform the convolution when multiplied by the\n",
    "            vectorized input.\n",
    "        \"\"\"\n",
    "        nf = F.shape[2]\n",
    "        vec_filters = F.transpose(2,1,0).reshape(nf, F.shape[0] * F.shape[1])\n",
    "        MF_matrix = np.zeros(((nlen - F.shape[1] + 1) * nf, nlen * F.shape[0]))\n",
    "        cur_column = 0\n",
    "        # For each time the filters are applied\n",
    "        for i in range(nlen - F.shape[1] + 1):\n",
    "            # Fill in the zero slots of the MF_Matrix with the vectorized filters\n",
    "            MF_matrix[i * nf: i * nf + nf, cur_column *  F.shape[0]: cur_column *  F.shape[0] + vec_filters.shape[1]] = vec_filters\n",
    "            cur_column += 1\n",
    "        return MF_matrix\n",
    "        \n",
    "    def makeMXMatrix(self, vec_input, height, width, nf, nlen):\n",
    "        \"\"\"\n",
    "        Computes the input matrix used for the convolutions during the \n",
    "        back-propagation.\n",
    "        \n",
    "        Args:\n",
    "            vec_input: Vectorized version of the input to the convolutional\n",
    "                layer.\n",
    "            height: corresponding height of the filter\n",
    "            width: corresponding width of the filter\n",
    "            filter_no: number of filters to be applied\n",
    "            nlen: Number of columns in the input of that layer. \n",
    "        Returns:\n",
    "            A (nlen - k + 1) * filter_no x k * filter_no * height with the\n",
    "            results of the convolutions.\n",
    "        \"\"\"\n",
    "        MX_Matrix = np.zeros(((nlen - width + 1) * nf, width * nf * height))\n",
    "        cur_column = 0\n",
    "        for i in range(nlen - width + 1):\n",
    "            # Define block diagonal matrix with the inputs to be used in this convolution on the diagonal\n",
    "            MX_Matrix[i * nf : i * nf + nf, :] = \\\n",
    "                block_diag(*[vec_input[cur_column * height: cur_column * height + width * height] for j in range(nf)]) \n",
    "            cur_column += 1\n",
    "        return MX_Matrix\n",
    "    \n",
    "    def cross_entropy_loss(self, X, Y, MFs):\n",
    "        \"\"\"\n",
    "        Calculates the cross entropy loss\n",
    "        \"\"\"\n",
    "        log_X = np.multiply(Y , self.forwardPass(X, MFs)[0]).sum(axis=0)\n",
    "        log_X[log_X == 0] = np.finfo(float).eps\n",
    "        return -np.log(log_X)\n",
    "\n",
    "    \n",
    "    def computeLoss(self, X_batch, Y_batch, MFs):\n",
    "        \"\"\"\n",
    "        Computes the loss of the network given a batch of data.\n",
    "        \n",
    "        Args:\n",
    "            X_batch: NxD matrix with N data sample inputs\n",
    "            Y_batch: NxM matrix with N data sample outputs\n",
    "        \n",
    "        Returns:\n",
    "            A scalar float value corresponding to the loss.\n",
    "        \"\"\"        \n",
    "        return np.mean(self.cross_entropy_loss(X_batch, Y_batch, MFs))# + lamda * np.sum(self.W ** 2)\n",
    "\n",
    "    def computeAccuracy(self, X, y, MFs):\n",
    "        \"\"\"\n",
    "        Computes the accuracy of the network.\n",
    "\n",
    "        Args:\n",
    "            X: Input matrix\n",
    "            y: Output labels\n",
    "\n",
    "        Returns:\n",
    "            The accuracy of the network (i.e. the percentage of\n",
    "            correctly classified inputs in X).\n",
    "\n",
    "        \"\"\"\n",
    "        softmax_outputs = self.forwardPass(X, MFs)[0] # Get probability distribution of outputs\n",
    "        # Reduce to a vector of the labels with the highest probability\n",
    "        predictions = np.argmax(softmax_outputs, axis = 0)\n",
    "        accuracy = (predictions == y).mean()\n",
    "        return accuracy\n",
    "\n",
    "    def forwardPass(self, X_batch, MFs):\n",
    "        \"\"\"\n",
    "        Performs a forward pass and returns the result:\n",
    "        \n",
    "        Args:\n",
    "            X_batch: NxD matrix with N data sample inputs\n",
    "            MFs: Matrices needed to perform convolution as \n",
    "                matrix multiplication.\n",
    "            \n",
    "        Returns:\n",
    "            A matrix with the predicted one-hot representations along with the outputs\n",
    "            of the first and second layer as well as the MF matrices calculated.\n",
    "        \"\"\"\n",
    "        \n",
    "        # Apply first convolutional layer to input data followed by a ReLU activation\n",
    "        X_batch1 = MFs[0].dot(X_batch)\n",
    "        X_batch1[X_batch1 < 0.0] = 0.0\n",
    "        \n",
    "        # Apply second convolutional layer to input data followed by a ReLU activation\n",
    "        X_batch2 = MFs[1].dot(X_batch1)\n",
    "        X_batch2[X_batch2 < 0.0] = 0.0\n",
    "        \n",
    "        # Apply the fully connected layer\n",
    "        output = self.W.dot(X_batch2)\n",
    "        # Apply softmax\n",
    "        P_batch = self.softmax(output)\n",
    "        return P_batch, X_batch1, X_batch2\n",
    "    \n",
    "    def backwardPass(self, Y_batch, P_batch, X_batch, X_batch1, X_batch2):\n",
    "        \"\"\"\n",
    "        Performs a backward pass and returns the gradients:\n",
    "        \n",
    "        Args:\n",
    "            Y_batch: NxM matrix with N data sample outputs\n",
    "            P_batch: Output after the softmax activation layer\n",
    "            X_batch2: Output of the second convolutional layer after the ReLU.\n",
    "            X_batch1: Output of the first convolutional layer after the ReLU.\n",
    "            X_batch: Original batch with the inputs.\n",
    "            \n",
    "        Returns:\n",
    "            The gradients of the weights of each layer (i.e. grad_F1, grad_F2, grad_W).\n",
    "        \"\"\"\n",
    "        # Initialize all gradients to zero\n",
    "        grad_W = np.zeros(self.W.shape) \n",
    "        grad_F1 = np.zeros(self.F[0].shape)\n",
    "        grad_F2 = np.zeros(self.F[1].shape)\n",
    "        \n",
    "        # Compute gradient of W\n",
    "        n = Y_batch.shape[1]\n",
    "        G_batch = -(Y_batch - P_batch)\n",
    "        grad_W = G_batch.dot(X_batch2.T) / n\n",
    "        \n",
    "        \n",
    "        # Propagate gradient through fully connected layer and ReLU of 2nd layer\n",
    "        G_batch = self.W.T.dot(G_batch)\n",
    "        G_batch *= np.where(X_batch2 > 0, 1, 0)\n",
    "        \n",
    "        # Compute gradient of the second layer's filters\n",
    "        n = X_batch1.shape[1]\n",
    "        for j in range(n):\n",
    "            g_j = G_batch[:,j]\n",
    "            x_j = X_batch1[:,j]\n",
    "            MX_matrix = self.makeMXMatrix(x_j, *self.F[1].shape, self.nlen_list[0])\n",
    "            v = g_j.T.dot(MX_matrix)\n",
    "            grad_F2 += v.reshape(grad_F2.shape, order='F')\n",
    "        grad_F2 /= n\n",
    "        \n",
    "        # Propagate gradient through second convolutional layer and ReLU of 1st layer\n",
    "        G_batch = MF_Matrix2.T.dot(G_batch)\n",
    "        G_batch *= np.where(X_batch1 > 0, 1, 0)\n",
    "        \n",
    "        # Compute gradient of the first layer's filters\n",
    "        n = X_batch.shape[1]\n",
    "        for j in range(n):\n",
    "            g_j = G_batch[:,j]\n",
    "            x_j = X_batch[:,j]\n",
    "            MX_matrix = self.makeMXMatrix(x_j, *self.F[0].shape, self.max_length)\n",
    "            v = g_j.T.dot(MX_matrix)\n",
    "            grad_F1 += v.reshape(grad_F1.shape, order='F')\n",
    "        grad_F1 /= n       \n",
    "        \n",
    "        return grad_F1, grad_F2, grad_W\n",
    "    \n",
    " \n",
    "    \n",
    "    def compute_grad_num_slow(self, X_batch, Y_batch, h = 1e-6):\n",
    "        '''Centered difference gradient'''\n",
    "        # Initialize all gradients to zero\n",
    "        grad_W = np.zeros(self.W.shape) \n",
    "        grad_F1 = np.zeros(self.F[0].shape)\n",
    "        grad_F2 = np.zeros(self.F[1].shape)\n",
    "\n",
    "        MFs = [self.constructFilterMatrix(self.F[0], self.max_length)]\n",
    "        MFs.append(self.constructFilterMatrix(self.F[1], self.nlen_list[0]))\n",
    "        \n",
    "        for j in tqdm(range(self.W.shape[0])):\n",
    "            for k in range(self.W.shape[1]):\n",
    "                self.W[j, k] -= h\n",
    "                c1 = self.computeLoss(X_batch, Y_batch, MFs);\n",
    "                self.W[j, k] += 2 * h\n",
    "                c2 = self.computeLoss(X_batch, Y_batch, MFs);\n",
    "                self.W[j, k] -= h\n",
    "                grad_W[j, k] = (c2-c1) / (2 * h)\n",
    "        \n",
    "        \n",
    "        for j in tqdm(range(self.F[1].shape[0])):\n",
    "            for k in range(self.F[1].shape[1]):\n",
    "                for i in range(self.F[1].shape[2]):\n",
    "                    self.F[1][j, k, i] = h\n",
    "                    MFs = [self.constructFilterMatrix(self.F[0], self.max_length)]\n",
    "                    MFs.append(self.constructFilterMatrix(self.F[1], self.nlen_list[0])) \n",
    "                    c1 = self.computeLoss(X_batch, Y_batch, MFs);\n",
    "\n",
    "                    self.F[1][j, k, i]  += 2 * h\n",
    "                    MFs = [self.constructFilterMatrix(self.F[0], self.max_length)]\n",
    "                    MFs.append(self.constructFilterMatrix(self.F[1], self.nlen_list[0])) \n",
    "                    c2= self.computeLoss(X_batch, Y_batch, MFs);\n",
    "\n",
    "                    self.F[1][j, k, i]  -= h\n",
    "                    grad_F2[j, k, i]  = (c2-c1) / (2 * h)\n",
    "\n",
    "        \n",
    "        for j in tqdm(range(self.F[0].shape[0])):\n",
    "            for k in range(self.F[0].shape[1]):\n",
    "                for i in range(self.F[0].shape[2]):\n",
    "                    self.F[0][j, k, i]  -= h\n",
    "                    MFs = [self.constructFilterMatrix(self.F[0], self.max_length)]\n",
    "                    MFs.append(self.constructFilterMatrix(self.F[1], self.nlen_list[0])) \n",
    "                    c1 = self.computeLoss(X_batch, Y_batch, MFs);\n",
    "\n",
    "                    self.F[0][j, k, i]  += 2 * h\n",
    "                    MFs = [self.constructFilterMatrix(self.F[0], self.max_length)]\n",
    "                    MFs.append(self.constructFilterMatrix(self.F[1], self.nlen_list[0])) \n",
    "                    c2= self.computeLoss(X_batch, Y_batch, MFs);\n",
    "\n",
    "                    self.F[0][j, k, i]  -= h\n",
    "                    grad_F1[j, k] = (c2-c1) / (2 * h)\n",
    "\n",
    "                \n",
    "        return grad_F1, grad_F2, grad_W\n",
    "    \n",
    "    def miniBatchGD(self, X, Y, GDparams, verbose = False, X_val = None, Y_val = None, tol = 1e-10):\n",
    "        \"\"\"\n",
    "        Implementation of mini-batch gradient descent.\n",
    "\n",
    "         Args:\n",
    "            X: Training input matrix\n",
    "            Y: Training set desired output matrix\n",
    "            GDparams: Object of the class Params with the hyperparameters\n",
    "                used for learning.\n",
    "            verbose: Prints info in each iteration about the progress of\n",
    "                training when equal to True.\n",
    "            X_val: Validation set input matrix\n",
    "            Y_val: Validation set desired output matrix\n",
    "\n",
    "        Returns:\n",
    "            The following tuple is returned where the validation lists\n",
    "            are empty if no validation set is given: (training_loss_list,\n",
    "            validation_loss_list, training_acc_list, validation_acc_list).\n",
    "        \"\"\"\n",
    "        results = ([],[],[],[])\n",
    "        mini_batch_count = X.shape[0] // GDparams.n_batch\n",
    "        y = np.argmax(Y, axis = 0)\n",
    "        \n",
    "        MFs = [self.constructFilterMatrix(self.F[0], self.max_length)]\n",
    "        MFs.append(self.constructFilterMatrix(self.F[1], self.nlen_list[0]))\n",
    "        \n",
    "        if(X_val is not None and Y_val is not None):\n",
    "            y_val = np.argmax(Y_val, axis = 0)\n",
    "        results[0].append(self.computeLoss(X, Y, MFs))\n",
    "        results[2].append(self.computeAccuracy(X, y, MFs))\n",
    "        \n",
    "        if(X_val is not None and Y_val is not None):\n",
    "            results[1].append(self.computeLoss(X_val, Y_val, MFs))\n",
    "            results[3].append(self.computeAccuracy(X_val, y_val, MFs))\n",
    "            \n",
    "        if(verbose):\n",
    "                print(\"Starting state \")\n",
    "                print(\"    Training cost: \" + str(results[0][-1]))\n",
    "                print(\"    Training accuracy: \" + str(results[2][-1]))\n",
    "                if(X_val is not None and Y_val is not None):\n",
    "                    print(\"    Validation cost: \" + str(results[1][-1]))\n",
    "                    print(\"    Validation accuracy: \" + str(results[3][-1]))\n",
    "                    \n",
    "        # If momentum is used\n",
    "        if GDparams.rho != 0.0:\n",
    "            # Create zero matrix for each parameter\n",
    "            V_W = np.zeros(self.W.shape)\n",
    "            V_F2 = np.zeros(self.F[1].shape)\n",
    "            V_F1 = np.zeros(self.F[0].shape)\n",
    "                    \n",
    "        learning_rate = GDparams.eta\n",
    "        for i in tqdm(range(GDparams.n_epochs)):\n",
    "            for j in range(mini_batch_count):\n",
    "                if(j < mini_batch_count - 1):\n",
    "                    start = j * GDparams.n_batch\n",
    "                    end = start + GDparams.n_batch\n",
    "                    mini_batch_input = X[:,start:end]\n",
    "                    mini_batch_output = Y[:,start:end]\n",
    "                else:\n",
    "                    # Take the remaining samples in the last mini batch\n",
    "                    mini_batch_input = X[:,j * GDparams.n_batch:]\n",
    "                    mini_batch_output = Y[:,j * GDparams.n_batch:]\n",
    "                \n",
    "                # Construct MF Matrices\n",
    "                MFs = [self.constructFilterMatrix(self.F[0], self.max_length)]\n",
    "                MFs.append(self.constructFilterMatrix(self.F[1], self.nlen_list[0]))\n",
    "                P_batch, X_batch1, X_batch2 = self.forwardPass(mini_batch_input, MFs)\n",
    "                grad_F1, grad_F2, grad_W = self.backwardPass(mini_batch_output, P_batch, mini_batch_input,\\\n",
    "                                                             X_batch1, X_batch2)\n",
    "\n",
    "                # Converge if all gradients are zero\n",
    "                if np.all(grad_W < tol) == 0 and np.all(grad_F1 < tol) and np.all(grad_F2 < tol):\n",
    "                    print(\"Learning converged at epoch \" + str(i))\n",
    "                    break              \n",
    "                \n",
    "                if GDparams.rho == 0.0:\n",
    "                    self.W[0] -= learning_rate * grad_W\n",
    "                    self.F[1] -= learning_rate * grad_F2\n",
    "                    self.F[0] -= learning_rate * grad_F1\n",
    "                else:\n",
    "                    V_W = GDparams.rho * V_W + learning_rate * grad_W\n",
    "                    V_F2 = GDparams.rho * V_F2 + learning_rate * grad_F2\n",
    "                    V_F1 = GDparams.rho * V_F1 + learning_rate * grad_F1\n",
    "                    self.W -= V_W\n",
    "                    self.F[1] -= V_F2\n",
    "                    self.F[0] -= V_F1\n",
    "                    \n",
    "            # Decay the learning rate\n",
    "            learning_rate *= GDparams.decay_rate\n",
    "\n",
    "            results[0].append(self.computeLoss(X, Y, MFs))\n",
    "            results[2].append(self.computeAccuracy(X, y, MFs))\n",
    "            if(X_val is not None and Y_val is not None):\n",
    "                results[1].append(self.computeLoss(X_val, Y_val, MFs))\n",
    "                results[3].append(network_model.computeAccuracy(X_val, y_val, MFs))\n",
    "            if(verbose):\n",
    "                print(\"Iteration \" + str(i))\n",
    "                print(\"    Training cost: \" + str(results[0][-1]))\n",
    "                print(\"    Training accuracy: \" + str(results[2][-1]))\n",
    "                if(X_val is not None and Y_val is not None):\n",
    "                    print(\"    Validation cost: \" + str(results[1][-1]))\n",
    "                    print(\"    Validation accuracy: \" + str(results[3][-1]))\n",
    "\n",
    "        return results"
   ]
  },
  {
   "cell_type": "code",
   "execution_count": 861,
   "metadata": {},
   "outputs": [],
   "source": [
    "class Params:\n",
    "    \"\"\"\n",
    "    Class containing hyperparameters used for\n",
    "    gradient descent learning.\n",
    "    \n",
    "    Attributes:\n",
    "        n_batch: Number of samples in each mini-batch.\n",
    "        eta: Learning rate\n",
    "        n_epochs: Maximum number of learning epochs.\n",
    "        decay_rate: The percentage of decay of the learning rate after each epoch, i.e.\n",
    "            a factor less than 1 by which the learning rate gets multiplied after each \n",
    "            epoch.\n",
    "        rho: percentage of use of the gradients of previous turns in learning to add momentum\n",
    "    \"\"\"\n",
    "    def __init__(self, n_batch, eta, n_epochs, decay_rate = 1.0, rho = 0.0):\n",
    "        \"\"\" Constructor \"\"\"\n",
    "        self.n_batch = n_batch\n",
    "        self.eta = eta\n",
    "        self.n_epochs = n_epochs\n",
    "        self.decay_rate = decay_rate\n",
    "        self.rho = rho"
   ]
  },
  {
   "cell_type": "code",
   "execution_count": 862,
   "metadata": {},
   "outputs": [],
   "source": [
    "def getRelativeErrors(grad1, grad2):\n",
    "    \"\"\"\n",
    "    Computes the relative errors of grad_1 and grad_2 gradients\n",
    "    \"\"\"\n",
    "    abs_diff = np.absolute(grad1 - grad2) \n",
    "    abs_sum = np.absolute(grad1) + np.absolute(grad2)\n",
    "    max_elems = np.where(abs_sum > np.finfo(float).eps, abs_sum, np.finfo(float).eps)\n",
    "    relativeErrors = abs_diff / max_elems\n",
    "    return relativeErrors"
   ]
  },
  {
   "cell_type": "markdown",
   "metadata": {},
   "source": [
    "## 2. Preparing data"
   ]
  },
  {
   "cell_type": "code",
   "execution_count": 863,
   "metadata": {},
   "outputs": [],
   "source": [
    "def encodeString(string, character_dictionary, max_length):\n",
    "    \"\"\"\n",
    "    One-hot encodes the character string, converting each \n",
    "    of its letters to one-hot encoded vectors and stacking\n",
    "    them from left to right. \n",
    "    \n",
    "    Args:\n",
    "        name: The string to be encoded.\n",
    "        character_dictionary: A dictionary which has a unique\n",
    "            index for each character in the alphabet used by\n",
    "            the string.\n",
    "        max_length: maximum length of the string. If the string\n",
    "            has a length less than max_length, zero columnds are\n",
    "            added as padding after the encoded character columns.\n",
    "\n",
    "    \n",
    "    Returns:\n",
    "        A C x max_length vector with the one-hot encoded characters\n",
    "        of the string and possibly zero padding in the last columns\n",
    "        where C is the number of different characters in the alpha-\n",
    "        bet used.\n",
    "    \"\"\"\n",
    "    d = len(character_dictionary)\n",
    "    encoded_string = np.zeros((d, max_length))\n",
    "    for i in range(len(string)):\n",
    "        encoded_string[character_dictionary[string[i]],i] = 1\n",
    "    return encoded_string"
   ]
  },
  {
   "cell_type": "code",
   "execution_count": 864,
   "metadata": {},
   "outputs": [],
   "source": [
    "def one_hot_encoding(label_id, label_no):\n",
    "    \"\"\"\n",
    "    Returns a one-hot encoded numpy vector with 1 at the index\n",
    "    of the label and 0 for each other element.\n",
    "    \n",
    "    Args:\n",
    "        label_id: Index of label.\n",
    "        label_no: Number of total labels.\n",
    "    \n",
    "    Returns:\n",
    "        A one-hot encoded vector with label_no elements.\n",
    "    \"\"\"\n",
    "    vector = np.zeros(label_no) \n",
    "    vector[label_id] = 1\n",
    "    return vector"
   ]
  },
  {
   "cell_type": "code",
   "execution_count": 865,
   "metadata": {},
   "outputs": [],
   "source": [
    "# Path to the files containing the data\n",
    "name_path = \"ascii_names.txt\"\n",
    "category_labels_path = \"category_labels.txt\"\n",
    "# Path to file used to save the inputs after their encoding\n",
    "save_input_path = \"onehot_encoded_inputs.npy\"\n",
    "# Path to file with the indices of the inputs that are going to used in the validation set\n",
    "val_ind_path = \"Validation_Inds.txt\""
   ]
  },
  {
   "cell_type": "code",
   "execution_count": 866,
   "metadata": {},
   "outputs": [
    {
     "name": "stderr",
     "output_type": "stream",
     "text": [
      "20050it [00:00, 1002608.52it/s]\n"
     ]
    }
   ],
   "source": [
    "# Read the data\n",
    "names = []\n",
    "labels = []\n",
    "if(os.path.exists(name_path)):\n",
    "    with open(name_path,\"r\") as f:\n",
    "        for line in tqdm(f):\n",
    "            entry = line.split()\n",
    "            names.append(' '.join(entry[:-1]))\n",
    "            labels.append(entry[-1])\n",
    "    f.close()\n",
    "    names = np.array(names)\n",
    "    labels = np.array(labels, dtype = int) \n",
    "else:\n",
    "    print(\"Requested file \" + name_path + \" does not exist.\")"
   ]
  },
  {
   "cell_type": "code",
   "execution_count": 867,
   "metadata": {},
   "outputs": [
    {
     "name": "stdout",
     "output_type": "stream",
     "text": [
      "1\n",
      "Arabic\n"
     ]
    }
   ],
   "source": [
    "# Read the different class names and indices and build a dictionary\n",
    "if(os.path.exists(category_labels_path)):\n",
    "    class_names = np.loadtxt(category_labels_path, usecols = 1, dtype = str)\n",
    "    class_indices = np.loadtxt(category_labels_path, usecols = 0, dtype = int)\n",
    "    K = len(class_names)\n",
    "    class_dictionary = {}\n",
    "    for i in range(K):\n",
    "        class_dictionary[class_names[i]] = class_indices[i]\n",
    "    inv_class_dictionary = {v: k for k, v in class_dictionary.items()}\n",
    "    # Check for correctness\n",
    "    print(class_dictionary['Arabic'])\n",
    "    print(inv_class_dictionary[1])\n",
    "else: \n",
    "    print(\"Requested file \" + category_labels_path + \" does not exist.\")"
   ]
  },
  {
   "cell_type": "markdown",
   "metadata": {},
   "source": [
    "### Determine number of unique characters and set up dictionary / Determine maximum length of name in dataset"
   ]
  },
  {
   "cell_type": "code",
   "execution_count": 868,
   "metadata": {},
   "outputs": [
    {
     "name": "stderr",
     "output_type": "stream",
     "text": [
      "100%|████████████████████████████████| 20050/20050 [00:00<00:00, 455579.07it/s]\n"
     ]
    }
   ],
   "source": [
    "character_dictionary = {}\n",
    "unique_idx = 0\n",
    "max_length = -1\n",
    "for name in tqdm(names):\n",
    "    length = len(name)\n",
    "    if(length > max_length):\n",
    "        max_length = length\n",
    "    for i in range(len(name)):\n",
    "        if(name[i] not in character_dictionary.keys()):\n",
    "            character_dictionary[name[i]] = unique_idx\n",
    "            unique_idx += 1\n",
    "d = len(character_dictionary) # Get number of unique characters"
   ]
  },
  {
   "cell_type": "code",
   "execution_count": 869,
   "metadata": {},
   "outputs": [
    {
     "name": "stdout",
     "output_type": "stream",
     "text": [
      "DIFFERENT UNIQUE CHARACTERS: 55\n",
      "MAXIMUM NAME LENGTH: 19\n"
     ]
    }
   ],
   "source": [
    "print(\"DIFFERENT UNIQUE CHARACTERS: \" + str(d))\n",
    "print(\"MAXIMUM NAME LENGTH: \" + str(max_length))"
   ]
  },
  {
   "cell_type": "code",
   "execution_count": 870,
   "metadata": {},
   "outputs": [
    {
     "name": "stdout",
     "output_type": "stream",
     "text": [
      "2\n",
      "o\n"
     ]
    }
   ],
   "source": [
    "# Build inverse dictionary mapping\n",
    "inv_character_dictionary = {v: k for k, v in character_dictionary.items()}\n",
    "# Check for correctness\n",
    "print(character_dictionary['o'])\n",
    "print(inv_character_dictionary[2])"
   ]
  },
  {
   "cell_type": "markdown",
   "metadata": {},
   "source": [
    "### One-hot encoding and vectorization of the input names"
   ]
  },
  {
   "cell_type": "code",
   "execution_count": 871,
   "metadata": {},
   "outputs": [
    {
     "name": "stderr",
     "output_type": "stream",
     "text": [
      "100%|█████████████████████████████████| 20050/20050 [00:00<00:00, 31501.12it/s]\n"
     ]
    }
   ],
   "source": [
    "# Encode and save the inputs in a matrix when each column corresponds to a different name\n",
    "vectorized_input_size = d * max_length\n",
    "X = np.zeros((vectorized_input_size, names.shape[0]))\n",
    "for idx, name in enumerate(tqdm(names)):\n",
    "    X[:,idx] = encodeString(name, character_dictionary, max_length).flatten(order = 'F')"
   ]
  },
  {
   "cell_type": "code",
   "execution_count": 872,
   "metadata": {},
   "outputs": [],
   "source": [
    "# Save inputs in a file if they are not already saved\n",
    "if(not os.path.exists(save_input_path)):\n",
    "    np.save(save_input_path, X)"
   ]
  },
  {
   "cell_type": "code",
   "execution_count": 848,
   "metadata": {},
   "outputs": [],
   "source": [
    "# Get the indices of the inputs that are going to used in the validation set\n",
    "if(os.path.exists(val_ind_path)):\n",
    "    validation_indices = np.loadtxt(val_ind_path)"
   ]
  },
  {
   "cell_type": "code",
   "execution_count": 849,
   "metadata": {},
   "outputs": [],
   "source": [
    "# One-hot encoding for outputputs\n",
    "Y = np.array([one_hot_encoding(label - 1, K) for label in labels], order = 'F').T"
   ]
  },
  {
   "cell_type": "markdown",
   "metadata": {},
   "source": [
    "## Set hyperparameters & initialize the ConvNet's parameters"
   ]
  },
  {
   "cell_type": "code",
   "execution_count": 850,
   "metadata": {},
   "outputs": [],
   "source": [
    "filter_width_constants = [3, 3]\n",
    "K = len(class_dictionary)\n",
    "conv_net = ConvNet(n = filter_numbers , k = filter_width_constants, output_dim = K, \\\n",
    "                   input_dim = d, nlen = max_length, he_init = True)"
   ]
  },
  {
   "cell_type": "code",
   "execution_count": 851,
   "metadata": {},
   "outputs": [
    {
     "name": "stdout",
     "output_type": "stream",
     "text": [
      "True\n"
     ]
    }
   ],
   "source": [
    "# Debug based on saved filters and convolution outputs\n",
    "dictionary = loadmat(\"Debugging_files/DebugInfo\")\n",
    "x_input = dictionary['x_input'].reshape(1, -1)\n",
    "X_input = dictionary['X_input']\n",
    "F = dictionary['F']\n",
    "vecS = dictionary['vecS']\n",
    "MF_Matrix = conv_net.constructFilterMatrix(F, max_length)\n",
    "s = MF_Matrix.dot(x_input.reshape(-1, 1)).flatten()\n",
    "print(np.allclose(s, vecS.flatten()))"
   ]
  },
  {
   "cell_type": "code",
   "execution_count": 852,
   "metadata": {},
   "outputs": [],
   "source": [
    "MF_Matrix = conv_net.constructFilterMatrix(conv_net.F[0], max_length)\n",
    "MF_Matrix2 = conv_net.constructFilterMatrix(conv_net.F[1], conv_net.nlen_list[0])"
   ]
  },
  {
   "cell_type": "code",
   "execution_count": 853,
   "metadata": {},
   "outputs": [
    {
     "data": {
      "image/png": "[encoded data removed]",
      "text/plain": [
       "<matplotlib.figure.Figure at 0x1f7e5e66198>"
      ]
     },
     "metadata": {},
     "output_type": "display_data"
    },
    {
     "data": {
      "image/png": "[encoded data removed]",
      "text/plain": [
       "<matplotlib.figure.Figure at 0x1f7e79dcb38>"
      ]
     },
     "metadata": {},
     "output_type": "display_data"
    }
   ],
   "source": [
    "# Visualize the mf_matrix to confirm that it is block diagonal\n",
    "plt.pcolormesh(MF_Matrix)\n",
    "plt.show()\n",
    "plt.pcolormesh(MF_Matrix2)\n",
    "plt.show()"
   ]
  },
  {
   "cell_type": "code",
   "execution_count": 854,
   "metadata": {},
   "outputs": [],
   "source": [
    "MX_Matrix = conv_net.makeMXMatrix((X[:,17513]), *conv_net.F[0].shape, max_length)"
   ]
  },
  {
   "cell_type": "code",
   "execution_count": 855,
   "metadata": {},
   "outputs": [
    {
     "name": "stdout",
     "output_type": "stream",
     "text": [
      "True\n"
     ]
    }
   ],
   "source": [
    "# Debugging for make MX and make MF functions (s1 and s2 should be equal)\n",
    "s1 = MX_Matrix.dot(conv_net.F[0].flatten('F').reshape(-1, 1))\n",
    "s2 = MF_Matrix.dot(X[:,17513].reshape(-1, 1))\n",
    "print(np.allclose(s1,s2))"
   ]
  },
  {
   "cell_type": "markdown",
   "metadata": {},
   "source": [
    "###### Gradient checking"
   ]
  },
  {
   "cell_type": "code",
   "execution_count": 874,
   "metadata": {},
   "outputs": [],
   "source": [
    "# Construct MF Matrices\n",
    "MFs = [conv_net.constructFilterMatrix(conv_net.F[0], conv_net.max_length)]\n",
    "MFs.append(conv_net.constructFilterMatrix(conv_net.F[1], conv_net.nlen_list[0]))\n",
    "P_batch, X_batch1, X_batch2 = conv_net.forwardPass(X[:,:100], MFs)\n",
    "grad_F1, grad_F2, grad_W = conv_net.backwardPass(Y[:,:100], P_batch, X[:,:100], X_batch1, X_batch2)"
   ]
  },
  {
   "cell_type": "code",
   "execution_count": 875,
   "metadata": {},
   "outputs": [
    {
     "name": "stderr",
     "output_type": "stream",
     "text": [
      "100%|██████████████████████████████████████████| 18/18 [00:01<00:00,  9.84it/s]\n",
      "100%|████████████████████████████████████████████| 5/5 [00:00<00:00, 42.37it/s]\n",
      "100%|██████████████████████████████████████████| 55/55 [00:01<00:00, 46.39it/s]\n"
     ]
    }
   ],
   "source": [
    "grad_F1_approx, grad_F2_approx, grad_W_approx = conv_net.compute_grad_num_slow(X[:,:100], Y[:,:100])"
   ]
  },
  {
   "cell_type": "code",
   "execution_count": 876,
   "metadata": {},
   "outputs": [
    {
     "name": "stdout",
     "output_type": "stream",
     "text": [
      "1.0\n",
      "1.0\n",
      "0.00021089944158778214\n",
      "0.40937187004764514\n",
      "0.779356352780695\n",
      "5.472949890316788e-07\n"
     ]
    }
   ],
   "source": [
    "errors1 = getRelativeErrors(grad_F1, grad_F1_approx)\n",
    "errors2 = getRelativeErrors(grad_F2, grad_F2_approx)\n",
    "errors3 = getRelativeErrors(grad_W, grad_W_approx)\n",
    "print(np.max(errors1))\n",
    "print(np.max(errors2))\n",
    "print(np.max(errors3))\n",
    "\n",
    "print(np.mean(errors1))\n",
    "print(np.mean(errors2))\n",
    "print(np.mean(errors3))"
   ]
  },
  {
   "cell_type": "code",
   "execution_count": 859,
   "metadata": {},
   "outputs": [
    {
     "name": "stdout",
     "output_type": "stream",
     "text": [
      "Starting state \n",
      "    Training cost: 2.8903728726393356\n",
      "    Training accuracy: 0.018952618453865335\n"
     ]
    },
    {
     "name": "stderr",
     "output_type": "stream",
     "text": [
      "  0%|                                                    | 0/5 [00:00<?, ?it/s]D:\\Anaconda3\\lib\\site-packages\\tqdm\\_monitor.py:89: TqdmSynchronisationWarning: Set changed size during iteration (see https://github.com/tqdm/tqdm/issues/481)\n",
      "  TqdmSynchronisationWarning)\n"
     ]
    },
    {
     "name": "stdout",
     "output_type": "stream",
     "text": [
      "Iteration 0\n",
      "    Training cost: 9.264484084676685\n",
      "    Training accuracy: 0.09980049875311721\n"
     ]
    },
    {
     "name": "stderr",
     "output_type": "stream",
     "text": [
      "\r",
      " 20%|████████▊                                   | 1/5 [00:35<02:20, 35.04s/it]"
     ]
    },
    {
     "name": "stdout",
     "output_type": "stream",
     "text": [
      "Iteration 1\n",
      "    Training cost: 6.035728679465362\n",
      "    Training accuracy: 0.1002992518703242\n"
     ]
    },
    {
     "name": "stderr",
     "output_type": "stream",
     "text": [
      "\r",
      " 40%|█████████████████▌                          | 2/5 [01:10<01:45, 35.28s/it]"
     ]
    },
    {
     "name": "stdout",
     "output_type": "stream",
     "text": [
      "Iteration 2\n",
      "    Training cost: 3.556069220493581\n",
      "    Training accuracy: 0.2283790523690773\n"
     ]
    },
    {
     "name": "stderr",
     "output_type": "stream",
     "text": [
      "\r",
      " 60%|██████████████████████████▍                 | 3/5 [01:47<01:11, 35.84s/it]"
     ]
    },
    {
     "name": "stdout",
     "output_type": "stream",
     "text": [
      "Iteration 3\n",
      "    Training cost: 3.8796835259254188\n",
      "    Training accuracy: 0.2374064837905237\n"
     ]
    },
    {
     "name": "stderr",
     "output_type": "stream",
     "text": [
      "\r",
      " 80%|███████████████████████████████████▏        | 4/5 [02:23<00:35, 35.92s/it]"
     ]
    },
    {
     "name": "stdout",
     "output_type": "stream",
     "text": [
      "Iteration 4\n",
      "    Training cost: 3.2873372662848515\n",
      "    Training accuracy: 0.28982543640897757\n"
     ]
    },
    {
     "name": "stderr",
     "output_type": "stream",
     "text": [
      "100%|████████████████████████████████████████████| 5/5 [02:59<00:00, 35.85s/it]\n"
     ]
    }
   ],
   "source": [
    "rho = 0.9\n",
    "epochs = 5\n",
    "mini_batch_size = 100\n",
    "decay_rate = 0.95\n",
    "eta = 0.05\n",
    "GDparams = Params(mini_batch_size, eta, epochs, decay_rate, rho)\n",
    "results = conv_net.miniBatchGD(X, Y, GDparams, verbose = True, X_val = None, Y_val = None, tol = 1e-10)"
   ]
  },
  {
   "cell_type": "code",
   "execution_count": null,
   "metadata": {},
   "outputs": [],
   "source": []
  },
  {
   "cell_type": "code",
   "execution_count": null,
   "metadata": {},
   "outputs": [],
   "source": []
  },
  {
   "cell_type": "code",
   "execution_count": null,
   "metadata": {},
   "outputs": [],
   "source": []
  },
  {
   "cell_type": "code",
   "execution_count": null,
   "metadata": {},
   "outputs": [],
   "source": []
  },
  {
   "cell_type": "code",
   "execution_count": null,
   "metadata": {},
   "outputs": [],
   "source": []
  },
  {
   "cell_type": "code",
   "execution_count": null,
   "metadata": {},
   "outputs": [],
   "source": []
  }
 ],
 "metadata": {
  "kernelspec": {
   "display_name": "Python 3",
   "language": "python",
   "name": "python3"
  },
  "language_info": {
   "codemirror_mode": {
    "name": "ipython",
    "version": 3
   },
   "file_extension": ".py",
   "mimetype": "text/x-python",
   "name": "python",
   "nbconvert_exporter": "python",
   "pygments_lexer": "ipython3",
   "version": "3.6.4"
  }
 },
 "nbformat": 4,
 "nbformat_minor": 2
}
